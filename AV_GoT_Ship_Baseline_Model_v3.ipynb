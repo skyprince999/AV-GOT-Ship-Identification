{
  "nbformat": 4,
  "nbformat_minor": 0,
  "metadata": {
    "colab": {
      "name": "AV_GoT_Ship_Baseline Model_v3.ipynb",
      "version": "0.3.2",
      "provenance": [],
      "collapsed_sections": [],
      "include_colab_link": true
    },
    "kernelspec": {
      "name": "python3",
      "display_name": "Python 3"
    },
    "accelerator": "GPU"
  },
  "cells": [
    {
      "cell_type": "markdown",
      "metadata": {
        "id": "view-in-github",
        "colab_type": "text"
      },
      "source": [
        "<a href=\"https://colab.research.google.com/github/skyprince999/AV-GOT-Ship-Identification/blob/master/AV_GoT_Ship_Baseline_Model_v3.ipynb\" target=\"_parent\"><img src=\"https://colab.research.google.com/assets/colab-badge.svg\" alt=\"Open In Colab\"/></a>"
      ]
    },
    {
      "cell_type": "code",
      "metadata": {
        "id": "fmc6taz2NcFh",
        "colab_type": "code",
        "outputId": "cf4e7749-ddc1-4572-b83a-c89a4a4f82f6",
        "colab": {
          "base_uri": "https://localhost:8080/",
          "height": 34
        }
      },
      "source": [
        "from __future__ import absolute_import, division, print_function, unicode_literals\n",
        "\n",
        "import os\n",
        "import sys\n",
        "\n",
        "import pandas as pd\n",
        "import numpy as np\n",
        "\n",
        "import tensorflow as tf\n",
        "from tensorflow import keras\n",
        "print(\"TensorFlow version is \", tf.__version__)\n",
        "\n",
        "import matplotlib.pyplot as plt\n",
        "import matplotlib.image as mpimg\n",
        "import PIL.Image as Image\n",
        "from IPython.display import clear_output"
      ],
      "execution_count": 0,
      "outputs": [
        {
          "output_type": "stream",
          "text": [
            "TensorFlow version is  1.13.1\n"
          ],
          "name": "stdout"
        }
      ]
    },
    {
      "cell_type": "code",
      "metadata": {
        "id": "QRPoKwuvipeH",
        "colab_type": "code",
        "outputId": "766efd00-6c7c-46d1-808e-c40ac12282ae",
        "colab": {
          "base_uri": "https://localhost:8080/",
          "height": 121
        }
      },
      "source": [
        "from google.colab import drive\n",
        "drive.mount('/content/gdrive')"
      ],
      "execution_count": 0,
      "outputs": [
        {
          "output_type": "stream",
          "text": [
            "Go to this URL in a browser: https://accounts.google.com/o/oauth2/auth?client_id=947318989803-6bn6qk8qdgf4n4g3pfee6491hc0brc4i.apps.googleusercontent.com&redirect_uri=urn%3Aietf%3Awg%3Aoauth%3A2.0%3Aoob&scope=email%20https%3A%2F%2Fwww.googleapis.com%2Fauth%2Fdocs.test%20https%3A%2F%2Fwww.googleapis.com%2Fauth%2Fdrive%20https%3A%2F%2Fwww.googleapis.com%2Fauth%2Fdrive.photos.readonly%20https%3A%2F%2Fwww.googleapis.com%2Fauth%2Fpeopleapi.readonly&response_type=code\n",
            "\n",
            "Enter your authorization code:\n",
            "··········\n",
            "Mounted at /content/gdrive\n"
          ],
          "name": "stdout"
        }
      ]
    },
    {
      "cell_type": "code",
      "metadata": {
        "id": "uKQaxMfeTHQT",
        "colab_type": "code",
        "colab": {}
      },
      "source": [
        "sys.path.insert(0, '/content/gdrive/My Drive/Colab Notebooks/my_modules')\n",
        "import unzipFiles"
      ],
      "execution_count": 0,
      "outputs": []
    },
    {
      "cell_type": "code",
      "metadata": {
        "id": "JSCuZ7SBTMPc",
        "colab_type": "code",
        "outputId": "6ea15b94-c4b0-4178-ef28-1029eb0700ff",
        "colab": {
          "base_uri": "https://localhost:8080/",
          "height": 168
        }
      },
      "source": [
        "PATH = '/content/gdrive/My Drive/AV_GoT_Ships/'\n",
        "\n",
        "categories = {'Cargo': 1, \n",
        "'Military': 2, \n",
        "'Carrier': 3, \n",
        "'Cruise': 4, \n",
        "'Tankers': 5}\n",
        "\n",
        "os.listdir(PATH)"
      ],
      "execution_count": 0,
      "outputs": [
        {
          "output_type": "execute_result",
          "data": {
            "text/plain": [
              "['train.zip',\n",
              " 'test.csv',\n",
              " 'sample_submission.csv',\n",
              " 'models',\n",
              " 'submission_mobilenet_25May2019_2335.csv',\n",
              " 'training_1',\n",
              " 'training_2',\n",
              " 'training_3',\n",
              " 'models_v2']"
            ]
          },
          "metadata": {
            "tags": []
          },
          "execution_count": 4
        }
      ]
    },
    {
      "cell_type": "code",
      "metadata": {
        "id": "cUBheH1WTP0o",
        "colab_type": "code",
        "outputId": "25dbe92a-c72c-472e-a7a0-ab4d2110e9a4",
        "colab": {
          "base_uri": "https://localhost:8080/",
          "height": 134
        }
      },
      "source": [
        "unzipFiles.copyTest(PATH)\n",
        "unzipFiles.unzipData(PATH)\n",
        "unzipFiles.copyTrainValid(categories)"
      ],
      "execution_count": 0,
      "outputs": [
        {
          "output_type": "stream",
          "text": [
            "['.config', 'sample_submission.csv', 'test.csv', 'gdrive', 'sample_data']\n",
            "Unzipped Successful\n",
            "['.config', 'sample_submission.csv', 'images', 'test.csv', '__MACOSX', 'train.csv', 'gdrive', 'sample_data']\n",
            "['.config', 'sample_submission.csv', 'images', 'test.csv', '__MACOSX', 'train.csv', 'gdrive', 'sample_data']\n",
            "Shape of train file:  (6252, 2)\n",
            "Number of categories:  5\n"
          ],
          "name": "stdout"
        },
        {
          "output_type": "execute_result",
          "data": {
            "text/plain": [
              "0"
            ]
          },
          "metadata": {
            "tags": []
          },
          "execution_count": 5
        }
      ]
    },
    {
      "cell_type": "code",
      "metadata": {
        "id": "YuG3IZ3aUZux",
        "colab_type": "code",
        "colab": {}
      },
      "source": [
        "image_size = 160 # All images will be resized to 160x160\n",
        "batch_size = 32\n",
        "train_dir = 'train'\n",
        "validation_dir = 'valid'\n",
        "\n",
        "\n",
        "# Rescale all images by 1./255 and apply image augmentation\n",
        "train_datagen = keras.preprocessing.image.ImageDataGenerator(\n",
        "                rescale=1./255)\n",
        "\n",
        "validation_datagen = keras.preprocessing.image.ImageDataGenerator(rescale=1./255)"
      ],
      "execution_count": 0,
      "outputs": []
    },
    {
      "cell_type": "code",
      "metadata": {
        "id": "CV-SA8wMUi6m",
        "colab_type": "code",
        "outputId": "e09b293d-084a-4902-af8a-82456e40c967",
        "colab": {
          "base_uri": "https://localhost:8080/",
          "height": 50
        }
      },
      "source": [
        "# Flow training images in batches of 20 using train_datagen generator\n",
        "train_generator = train_datagen.flow_from_directory(\n",
        "                train_dir,  # Source directory for the training images\n",
        "                target_size=(image_size, image_size),\n",
        "                batch_size=batch_size, seed = 999,\n",
        "                # Since we use binary_crossentropy loss, we need binary labels\n",
        "                class_mode='categorical')\n",
        "\n",
        "# Flow validation images in batches of 20 using test_datagen generator\n",
        "validation_generator = validation_datagen.flow_from_directory(\n",
        "                validation_dir, # Source directory for the validation images\n",
        "                target_size=(image_size, image_size),\n",
        "                batch_size=batch_size, seed = 999,\n",
        "                class_mode='categorical')"
      ],
      "execution_count": 0,
      "outputs": [
        {
          "output_type": "stream",
          "text": [
            "Found 4999 images belonging to 5 classes.\n",
            "Found 1253 images belonging to 5 classes.\n"
          ],
          "name": "stdout"
        }
      ]
    },
    {
      "cell_type": "code",
      "metadata": {
        "id": "HiHAi_BYUlz2",
        "colab_type": "code",
        "outputId": "abd8488a-0a35-407b-b2a3-9bfebaeacc29",
        "colab": {
          "base_uri": "https://localhost:8080/",
          "height": 121
        }
      },
      "source": [
        "IMG_SHAPE = (image_size, image_size, 3)\n",
        "\n",
        "# Create the base model from the pre-trained model MobileNet V2\n",
        "base_model = tf.keras.applications.MobileNetV2(input_shape=IMG_SHAPE,\n",
        "                                               include_top=False,\n",
        "                                               weights='imagenet')"
      ],
      "execution_count": 0,
      "outputs": [
        {
          "output_type": "stream",
          "text": [
            "WARNING:tensorflow:From /usr/local/lib/python3.6/dist-packages/tensorflow/python/ops/resource_variable_ops.py:435: colocate_with (from tensorflow.python.framework.ops) is deprecated and will be removed in a future version.\n",
            "Instructions for updating:\n",
            "Colocations handled automatically by placer.\n",
            "Downloading data from https://github.com/JonathanCMitchell/mobilenet_v2_keras/releases/download/v1.1/mobilenet_v2_weights_tf_dim_ordering_tf_kernels_1.0_160_no_top.h5\n",
            "9412608/9406464 [==============================] - 0s 0us/step\n"
          ],
          "name": "stdout"
        }
      ]
    },
    {
      "cell_type": "code",
      "metadata": {
        "id": "eNALOP9UUpj6",
        "colab_type": "code",
        "colab": {}
      },
      "source": [
        "base_model.trainable = False"
      ],
      "execution_count": 0,
      "outputs": []
    },
    {
      "cell_type": "code",
      "metadata": {
        "id": "MvHbkQSmUvlM",
        "colab_type": "code",
        "outputId": "907d123b-8eb9-4ebe-bbf9-b13ea27a01b2",
        "colab": {
          "base_uri": "https://localhost:8080/",
          "height": 5510
        }
      },
      "source": [
        "# Let's take a look at the base model architecture\n",
        "base_model.summary()"
      ],
      "execution_count": 0,
      "outputs": [
        {
          "output_type": "stream",
          "text": [
            "__________________________________________________________________________________________________\n",
            "Layer (type)                    Output Shape         Param #     Connected to                     \n",
            "==================================================================================================\n",
            "input_1 (InputLayer)            (None, 160, 160, 3)  0                                            \n",
            "__________________________________________________________________________________________________\n",
            "Conv1_pad (ZeroPadding2D)       (None, 161, 161, 3)  0           input_1[0][0]                    \n",
            "__________________________________________________________________________________________________\n",
            "Conv1 (Conv2D)                  (None, 80, 80, 32)   864         Conv1_pad[0][0]                  \n",
            "__________________________________________________________________________________________________\n",
            "bn_Conv1 (BatchNormalizationV1) (None, 80, 80, 32)   128         Conv1[0][0]                      \n",
            "__________________________________________________________________________________________________\n",
            "Conv1_relu (ReLU)               (None, 80, 80, 32)   0           bn_Conv1[0][0]                   \n",
            "__________________________________________________________________________________________________\n",
            "expanded_conv_depthwise (Depthw (None, 80, 80, 32)   288         Conv1_relu[0][0]                 \n",
            "__________________________________________________________________________________________________\n",
            "expanded_conv_depthwise_BN (Bat (None, 80, 80, 32)   128         expanded_conv_depthwise[0][0]    \n",
            "__________________________________________________________________________________________________\n",
            "expanded_conv_depthwise_relu (R (None, 80, 80, 32)   0           expanded_conv_depthwise_BN[0][0] \n",
            "__________________________________________________________________________________________________\n",
            "expanded_conv_project (Conv2D)  (None, 80, 80, 16)   512         expanded_conv_depthwise_relu[0][0\n",
            "__________________________________________________________________________________________________\n",
            "expanded_conv_project_BN (Batch (None, 80, 80, 16)   64          expanded_conv_project[0][0]      \n",
            "__________________________________________________________________________________________________\n",
            "block_1_expand (Conv2D)         (None, 80, 80, 96)   1536        expanded_conv_project_BN[0][0]   \n",
            "__________________________________________________________________________________________________\n",
            "block_1_expand_BN (BatchNormali (None, 80, 80, 96)   384         block_1_expand[0][0]             \n",
            "__________________________________________________________________________________________________\n",
            "block_1_expand_relu (ReLU)      (None, 80, 80, 96)   0           block_1_expand_BN[0][0]          \n",
            "__________________________________________________________________________________________________\n",
            "block_1_pad (ZeroPadding2D)     (None, 81, 81, 96)   0           block_1_expand_relu[0][0]        \n",
            "__________________________________________________________________________________________________\n",
            "block_1_depthwise (DepthwiseCon (None, 40, 40, 96)   864         block_1_pad[0][0]                \n",
            "__________________________________________________________________________________________________\n",
            "block_1_depthwise_BN (BatchNorm (None, 40, 40, 96)   384         block_1_depthwise[0][0]          \n",
            "__________________________________________________________________________________________________\n",
            "block_1_depthwise_relu (ReLU)   (None, 40, 40, 96)   0           block_1_depthwise_BN[0][0]       \n",
            "__________________________________________________________________________________________________\n",
            "block_1_project (Conv2D)        (None, 40, 40, 24)   2304        block_1_depthwise_relu[0][0]     \n",
            "__________________________________________________________________________________________________\n",
            "block_1_project_BN (BatchNormal (None, 40, 40, 24)   96          block_1_project[0][0]            \n",
            "__________________________________________________________________________________________________\n",
            "block_2_expand (Conv2D)         (None, 40, 40, 144)  3456        block_1_project_BN[0][0]         \n",
            "__________________________________________________________________________________________________\n",
            "block_2_expand_BN (BatchNormali (None, 40, 40, 144)  576         block_2_expand[0][0]             \n",
            "__________________________________________________________________________________________________\n",
            "block_2_expand_relu (ReLU)      (None, 40, 40, 144)  0           block_2_expand_BN[0][0]          \n",
            "__________________________________________________________________________________________________\n",
            "block_2_depthwise (DepthwiseCon (None, 40, 40, 144)  1296        block_2_expand_relu[0][0]        \n",
            "__________________________________________________________________________________________________\n",
            "block_2_depthwise_BN (BatchNorm (None, 40, 40, 144)  576         block_2_depthwise[0][0]          \n",
            "__________________________________________________________________________________________________\n",
            "block_2_depthwise_relu (ReLU)   (None, 40, 40, 144)  0           block_2_depthwise_BN[0][0]       \n",
            "__________________________________________________________________________________________________\n",
            "block_2_project (Conv2D)        (None, 40, 40, 24)   3456        block_2_depthwise_relu[0][0]     \n",
            "__________________________________________________________________________________________________\n",
            "block_2_project_BN (BatchNormal (None, 40, 40, 24)   96          block_2_project[0][0]            \n",
            "__________________________________________________________________________________________________\n",
            "block_2_add (Add)               (None, 40, 40, 24)   0           block_1_project_BN[0][0]         \n",
            "                                                                 block_2_project_BN[0][0]         \n",
            "__________________________________________________________________________________________________\n",
            "block_3_expand (Conv2D)         (None, 40, 40, 144)  3456        block_2_add[0][0]                \n",
            "__________________________________________________________________________________________________\n",
            "block_3_expand_BN (BatchNormali (None, 40, 40, 144)  576         block_3_expand[0][0]             \n",
            "__________________________________________________________________________________________________\n",
            "block_3_expand_relu (ReLU)      (None, 40, 40, 144)  0           block_3_expand_BN[0][0]          \n",
            "__________________________________________________________________________________________________\n",
            "block_3_pad (ZeroPadding2D)     (None, 41, 41, 144)  0           block_3_expand_relu[0][0]        \n",
            "__________________________________________________________________________________________________\n",
            "block_3_depthwise (DepthwiseCon (None, 20, 20, 144)  1296        block_3_pad[0][0]                \n",
            "__________________________________________________________________________________________________\n",
            "block_3_depthwise_BN (BatchNorm (None, 20, 20, 144)  576         block_3_depthwise[0][0]          \n",
            "__________________________________________________________________________________________________\n",
            "block_3_depthwise_relu (ReLU)   (None, 20, 20, 144)  0           block_3_depthwise_BN[0][0]       \n",
            "__________________________________________________________________________________________________\n",
            "block_3_project (Conv2D)        (None, 20, 20, 32)   4608        block_3_depthwise_relu[0][0]     \n",
            "__________________________________________________________________________________________________\n",
            "block_3_project_BN (BatchNormal (None, 20, 20, 32)   128         block_3_project[0][0]            \n",
            "__________________________________________________________________________________________________\n",
            "block_4_expand (Conv2D)         (None, 20, 20, 192)  6144        block_3_project_BN[0][0]         \n",
            "__________________________________________________________________________________________________\n",
            "block_4_expand_BN (BatchNormali (None, 20, 20, 192)  768         block_4_expand[0][0]             \n",
            "__________________________________________________________________________________________________\n",
            "block_4_expand_relu (ReLU)      (None, 20, 20, 192)  0           block_4_expand_BN[0][0]          \n",
            "__________________________________________________________________________________________________\n",
            "block_4_depthwise (DepthwiseCon (None, 20, 20, 192)  1728        block_4_expand_relu[0][0]        \n",
            "__________________________________________________________________________________________________\n",
            "block_4_depthwise_BN (BatchNorm (None, 20, 20, 192)  768         block_4_depthwise[0][0]          \n",
            "__________________________________________________________________________________________________\n",
            "block_4_depthwise_relu (ReLU)   (None, 20, 20, 192)  0           block_4_depthwise_BN[0][0]       \n",
            "__________________________________________________________________________________________________\n",
            "block_4_project (Conv2D)        (None, 20, 20, 32)   6144        block_4_depthwise_relu[0][0]     \n",
            "__________________________________________________________________________________________________\n",
            "block_4_project_BN (BatchNormal (None, 20, 20, 32)   128         block_4_project[0][0]            \n",
            "__________________________________________________________________________________________________\n",
            "block_4_add (Add)               (None, 20, 20, 32)   0           block_3_project_BN[0][0]         \n",
            "                                                                 block_4_project_BN[0][0]         \n",
            "__________________________________________________________________________________________________\n",
            "block_5_expand (Conv2D)         (None, 20, 20, 192)  6144        block_4_add[0][0]                \n",
            "__________________________________________________________________________________________________\n",
            "block_5_expand_BN (BatchNormali (None, 20, 20, 192)  768         block_5_expand[0][0]             \n",
            "__________________________________________________________________________________________________\n",
            "block_5_expand_relu (ReLU)      (None, 20, 20, 192)  0           block_5_expand_BN[0][0]          \n",
            "__________________________________________________________________________________________________\n",
            "block_5_depthwise (DepthwiseCon (None, 20, 20, 192)  1728        block_5_expand_relu[0][0]        \n",
            "__________________________________________________________________________________________________\n",
            "block_5_depthwise_BN (BatchNorm (None, 20, 20, 192)  768         block_5_depthwise[0][0]          \n",
            "__________________________________________________________________________________________________\n",
            "block_5_depthwise_relu (ReLU)   (None, 20, 20, 192)  0           block_5_depthwise_BN[0][0]       \n",
            "__________________________________________________________________________________________________\n",
            "block_5_project (Conv2D)        (None, 20, 20, 32)   6144        block_5_depthwise_relu[0][0]     \n",
            "__________________________________________________________________________________________________\n",
            "block_5_project_BN (BatchNormal (None, 20, 20, 32)   128         block_5_project[0][0]            \n",
            "__________________________________________________________________________________________________\n",
            "block_5_add (Add)               (None, 20, 20, 32)   0           block_4_add[0][0]                \n",
            "                                                                 block_5_project_BN[0][0]         \n",
            "__________________________________________________________________________________________________\n",
            "block_6_expand (Conv2D)         (None, 20, 20, 192)  6144        block_5_add[0][0]                \n",
            "__________________________________________________________________________________________________\n",
            "block_6_expand_BN (BatchNormali (None, 20, 20, 192)  768         block_6_expand[0][0]             \n",
            "__________________________________________________________________________________________________\n",
            "block_6_expand_relu (ReLU)      (None, 20, 20, 192)  0           block_6_expand_BN[0][0]          \n",
            "__________________________________________________________________________________________________\n",
            "block_6_pad (ZeroPadding2D)     (None, 21, 21, 192)  0           block_6_expand_relu[0][0]        \n",
            "__________________________________________________________________________________________________\n",
            "block_6_depthwise (DepthwiseCon (None, 10, 10, 192)  1728        block_6_pad[0][0]                \n",
            "__________________________________________________________________________________________________\n",
            "block_6_depthwise_BN (BatchNorm (None, 10, 10, 192)  768         block_6_depthwise[0][0]          \n",
            "__________________________________________________________________________________________________\n",
            "block_6_depthwise_relu (ReLU)   (None, 10, 10, 192)  0           block_6_depthwise_BN[0][0]       \n",
            "__________________________________________________________________________________________________\n",
            "block_6_project (Conv2D)        (None, 10, 10, 64)   12288       block_6_depthwise_relu[0][0]     \n",
            "__________________________________________________________________________________________________\n",
            "block_6_project_BN (BatchNormal (None, 10, 10, 64)   256         block_6_project[0][0]            \n",
            "__________________________________________________________________________________________________\n",
            "block_7_expand (Conv2D)         (None, 10, 10, 384)  24576       block_6_project_BN[0][0]         \n",
            "__________________________________________________________________________________________________\n",
            "block_7_expand_BN (BatchNormali (None, 10, 10, 384)  1536        block_7_expand[0][0]             \n",
            "__________________________________________________________________________________________________\n",
            "block_7_expand_relu (ReLU)      (None, 10, 10, 384)  0           block_7_expand_BN[0][0]          \n",
            "__________________________________________________________________________________________________\n",
            "block_7_depthwise (DepthwiseCon (None, 10, 10, 384)  3456        block_7_expand_relu[0][0]        \n",
            "__________________________________________________________________________________________________\n",
            "block_7_depthwise_BN (BatchNorm (None, 10, 10, 384)  1536        block_7_depthwise[0][0]          \n",
            "__________________________________________________________________________________________________\n",
            "block_7_depthwise_relu (ReLU)   (None, 10, 10, 384)  0           block_7_depthwise_BN[0][0]       \n",
            "__________________________________________________________________________________________________\n",
            "block_7_project (Conv2D)        (None, 10, 10, 64)   24576       block_7_depthwise_relu[0][0]     \n",
            "__________________________________________________________________________________________________\n",
            "block_7_project_BN (BatchNormal (None, 10, 10, 64)   256         block_7_project[0][0]            \n",
            "__________________________________________________________________________________________________\n",
            "block_7_add (Add)               (None, 10, 10, 64)   0           block_6_project_BN[0][0]         \n",
            "                                                                 block_7_project_BN[0][0]         \n",
            "__________________________________________________________________________________________________\n",
            "block_8_expand (Conv2D)         (None, 10, 10, 384)  24576       block_7_add[0][0]                \n",
            "__________________________________________________________________________________________________\n",
            "block_8_expand_BN (BatchNormali (None, 10, 10, 384)  1536        block_8_expand[0][0]             \n",
            "__________________________________________________________________________________________________\n",
            "block_8_expand_relu (ReLU)      (None, 10, 10, 384)  0           block_8_expand_BN[0][0]          \n",
            "__________________________________________________________________________________________________\n",
            "block_8_depthwise (DepthwiseCon (None, 10, 10, 384)  3456        block_8_expand_relu[0][0]        \n",
            "__________________________________________________________________________________________________\n",
            "block_8_depthwise_BN (BatchNorm (None, 10, 10, 384)  1536        block_8_depthwise[0][0]          \n",
            "__________________________________________________________________________________________________\n",
            "block_8_depthwise_relu (ReLU)   (None, 10, 10, 384)  0           block_8_depthwise_BN[0][0]       \n",
            "__________________________________________________________________________________________________\n",
            "block_8_project (Conv2D)        (None, 10, 10, 64)   24576       block_8_depthwise_relu[0][0]     \n",
            "__________________________________________________________________________________________________\n",
            "block_8_project_BN (BatchNormal (None, 10, 10, 64)   256         block_8_project[0][0]            \n",
            "__________________________________________________________________________________________________\n",
            "block_8_add (Add)               (None, 10, 10, 64)   0           block_7_add[0][0]                \n",
            "                                                                 block_8_project_BN[0][0]         \n",
            "__________________________________________________________________________________________________\n",
            "block_9_expand (Conv2D)         (None, 10, 10, 384)  24576       block_8_add[0][0]                \n",
            "__________________________________________________________________________________________________\n",
            "block_9_expand_BN (BatchNormali (None, 10, 10, 384)  1536        block_9_expand[0][0]             \n",
            "__________________________________________________________________________________________________\n",
            "block_9_expand_relu (ReLU)      (None, 10, 10, 384)  0           block_9_expand_BN[0][0]          \n",
            "__________________________________________________________________________________________________\n",
            "block_9_depthwise (DepthwiseCon (None, 10, 10, 384)  3456        block_9_expand_relu[0][0]        \n",
            "__________________________________________________________________________________________________\n",
            "block_9_depthwise_BN (BatchNorm (None, 10, 10, 384)  1536        block_9_depthwise[0][0]          \n",
            "__________________________________________________________________________________________________\n",
            "block_9_depthwise_relu (ReLU)   (None, 10, 10, 384)  0           block_9_depthwise_BN[0][0]       \n",
            "__________________________________________________________________________________________________\n",
            "block_9_project (Conv2D)        (None, 10, 10, 64)   24576       block_9_depthwise_relu[0][0]     \n",
            "__________________________________________________________________________________________________\n",
            "block_9_project_BN (BatchNormal (None, 10, 10, 64)   256         block_9_project[0][0]            \n",
            "__________________________________________________________________________________________________\n",
            "block_9_add (Add)               (None, 10, 10, 64)   0           block_8_add[0][0]                \n",
            "                                                                 block_9_project_BN[0][0]         \n",
            "__________________________________________________________________________________________________\n",
            "block_10_expand (Conv2D)        (None, 10, 10, 384)  24576       block_9_add[0][0]                \n",
            "__________________________________________________________________________________________________\n",
            "block_10_expand_BN (BatchNormal (None, 10, 10, 384)  1536        block_10_expand[0][0]            \n",
            "__________________________________________________________________________________________________\n",
            "block_10_expand_relu (ReLU)     (None, 10, 10, 384)  0           block_10_expand_BN[0][0]         \n",
            "__________________________________________________________________________________________________\n",
            "block_10_depthwise (DepthwiseCo (None, 10, 10, 384)  3456        block_10_expand_relu[0][0]       \n",
            "__________________________________________________________________________________________________\n",
            "block_10_depthwise_BN (BatchNor (None, 10, 10, 384)  1536        block_10_depthwise[0][0]         \n",
            "__________________________________________________________________________________________________\n",
            "block_10_depthwise_relu (ReLU)  (None, 10, 10, 384)  0           block_10_depthwise_BN[0][0]      \n",
            "__________________________________________________________________________________________________\n",
            "block_10_project (Conv2D)       (None, 10, 10, 96)   36864       block_10_depthwise_relu[0][0]    \n",
            "__________________________________________________________________________________________________\n",
            "block_10_project_BN (BatchNorma (None, 10, 10, 96)   384         block_10_project[0][0]           \n",
            "__________________________________________________________________________________________________\n",
            "block_11_expand (Conv2D)        (None, 10, 10, 576)  55296       block_10_project_BN[0][0]        \n",
            "__________________________________________________________________________________________________\n",
            "block_11_expand_BN (BatchNormal (None, 10, 10, 576)  2304        block_11_expand[0][0]            \n",
            "__________________________________________________________________________________________________\n",
            "block_11_expand_relu (ReLU)     (None, 10, 10, 576)  0           block_11_expand_BN[0][0]         \n",
            "__________________________________________________________________________________________________\n",
            "block_11_depthwise (DepthwiseCo (None, 10, 10, 576)  5184        block_11_expand_relu[0][0]       \n",
            "__________________________________________________________________________________________________\n",
            "block_11_depthwise_BN (BatchNor (None, 10, 10, 576)  2304        block_11_depthwise[0][0]         \n",
            "__________________________________________________________________________________________________\n",
            "block_11_depthwise_relu (ReLU)  (None, 10, 10, 576)  0           block_11_depthwise_BN[0][0]      \n",
            "__________________________________________________________________________________________________\n",
            "block_11_project (Conv2D)       (None, 10, 10, 96)   55296       block_11_depthwise_relu[0][0]    \n",
            "__________________________________________________________________________________________________\n",
            "block_11_project_BN (BatchNorma (None, 10, 10, 96)   384         block_11_project[0][0]           \n",
            "__________________________________________________________________________________________________\n",
            "block_11_add (Add)              (None, 10, 10, 96)   0           block_10_project_BN[0][0]        \n",
            "                                                                 block_11_project_BN[0][0]        \n",
            "__________________________________________________________________________________________________\n",
            "block_12_expand (Conv2D)        (None, 10, 10, 576)  55296       block_11_add[0][0]               \n",
            "__________________________________________________________________________________________________\n",
            "block_12_expand_BN (BatchNormal (None, 10, 10, 576)  2304        block_12_expand[0][0]            \n",
            "__________________________________________________________________________________________________\n",
            "block_12_expand_relu (ReLU)     (None, 10, 10, 576)  0           block_12_expand_BN[0][0]         \n",
            "__________________________________________________________________________________________________\n",
            "block_12_depthwise (DepthwiseCo (None, 10, 10, 576)  5184        block_12_expand_relu[0][0]       \n",
            "__________________________________________________________________________________________________\n",
            "block_12_depthwise_BN (BatchNor (None, 10, 10, 576)  2304        block_12_depthwise[0][0]         \n",
            "__________________________________________________________________________________________________\n",
            "block_12_depthwise_relu (ReLU)  (None, 10, 10, 576)  0           block_12_depthwise_BN[0][0]      \n",
            "__________________________________________________________________________________________________\n",
            "block_12_project (Conv2D)       (None, 10, 10, 96)   55296       block_12_depthwise_relu[0][0]    \n",
            "__________________________________________________________________________________________________\n",
            "block_12_project_BN (BatchNorma (None, 10, 10, 96)   384         block_12_project[0][0]           \n",
            "__________________________________________________________________________________________________\n",
            "block_12_add (Add)              (None, 10, 10, 96)   0           block_11_add[0][0]               \n",
            "                                                                 block_12_project_BN[0][0]        \n",
            "__________________________________________________________________________________________________\n",
            "block_13_expand (Conv2D)        (None, 10, 10, 576)  55296       block_12_add[0][0]               \n",
            "__________________________________________________________________________________________________\n",
            "block_13_expand_BN (BatchNormal (None, 10, 10, 576)  2304        block_13_expand[0][0]            \n",
            "__________________________________________________________________________________________________\n",
            "block_13_expand_relu (ReLU)     (None, 10, 10, 576)  0           block_13_expand_BN[0][0]         \n",
            "__________________________________________________________________________________________________\n",
            "block_13_pad (ZeroPadding2D)    (None, 11, 11, 576)  0           block_13_expand_relu[0][0]       \n",
            "__________________________________________________________________________________________________\n",
            "block_13_depthwise (DepthwiseCo (None, 5, 5, 576)    5184        block_13_pad[0][0]               \n",
            "__________________________________________________________________________________________________\n",
            "block_13_depthwise_BN (BatchNor (None, 5, 5, 576)    2304        block_13_depthwise[0][0]         \n",
            "__________________________________________________________________________________________________\n",
            "block_13_depthwise_relu (ReLU)  (None, 5, 5, 576)    0           block_13_depthwise_BN[0][0]      \n",
            "__________________________________________________________________________________________________\n",
            "block_13_project (Conv2D)       (None, 5, 5, 160)    92160       block_13_depthwise_relu[0][0]    \n",
            "__________________________________________________________________________________________________\n",
            "block_13_project_BN (BatchNorma (None, 5, 5, 160)    640         block_13_project[0][0]           \n",
            "__________________________________________________________________________________________________\n",
            "block_14_expand (Conv2D)        (None, 5, 5, 960)    153600      block_13_project_BN[0][0]        \n",
            "__________________________________________________________________________________________________\n",
            "block_14_expand_BN (BatchNormal (None, 5, 5, 960)    3840        block_14_expand[0][0]            \n",
            "__________________________________________________________________________________________________\n",
            "block_14_expand_relu (ReLU)     (None, 5, 5, 960)    0           block_14_expand_BN[0][0]         \n",
            "__________________________________________________________________________________________________\n",
            "block_14_depthwise (DepthwiseCo (None, 5, 5, 960)    8640        block_14_expand_relu[0][0]       \n",
            "__________________________________________________________________________________________________\n",
            "block_14_depthwise_BN (BatchNor (None, 5, 5, 960)    3840        block_14_depthwise[0][0]         \n",
            "__________________________________________________________________________________________________\n",
            "block_14_depthwise_relu (ReLU)  (None, 5, 5, 960)    0           block_14_depthwise_BN[0][0]      \n",
            "__________________________________________________________________________________________________\n",
            "block_14_project (Conv2D)       (None, 5, 5, 160)    153600      block_14_depthwise_relu[0][0]    \n",
            "__________________________________________________________________________________________________\n",
            "block_14_project_BN (BatchNorma (None, 5, 5, 160)    640         block_14_project[0][0]           \n",
            "__________________________________________________________________________________________________\n",
            "block_14_add (Add)              (None, 5, 5, 160)    0           block_13_project_BN[0][0]        \n",
            "                                                                 block_14_project_BN[0][0]        \n",
            "__________________________________________________________________________________________________\n",
            "block_15_expand (Conv2D)        (None, 5, 5, 960)    153600      block_14_add[0][0]               \n",
            "__________________________________________________________________________________________________\n",
            "block_15_expand_BN (BatchNormal (None, 5, 5, 960)    3840        block_15_expand[0][0]            \n",
            "__________________________________________________________________________________________________\n",
            "block_15_expand_relu (ReLU)     (None, 5, 5, 960)    0           block_15_expand_BN[0][0]         \n",
            "__________________________________________________________________________________________________\n",
            "block_15_depthwise (DepthwiseCo (None, 5, 5, 960)    8640        block_15_expand_relu[0][0]       \n",
            "__________________________________________________________________________________________________\n",
            "block_15_depthwise_BN (BatchNor (None, 5, 5, 960)    3840        block_15_depthwise[0][0]         \n",
            "__________________________________________________________________________________________________\n",
            "block_15_depthwise_relu (ReLU)  (None, 5, 5, 960)    0           block_15_depthwise_BN[0][0]      \n",
            "__________________________________________________________________________________________________\n",
            "block_15_project (Conv2D)       (None, 5, 5, 160)    153600      block_15_depthwise_relu[0][0]    \n",
            "__________________________________________________________________________________________________\n",
            "block_15_project_BN (BatchNorma (None, 5, 5, 160)    640         block_15_project[0][0]           \n",
            "__________________________________________________________________________________________________\n",
            "block_15_add (Add)              (None, 5, 5, 160)    0           block_14_add[0][0]               \n",
            "                                                                 block_15_project_BN[0][0]        \n",
            "__________________________________________________________________________________________________\n",
            "block_16_expand (Conv2D)        (None, 5, 5, 960)    153600      block_15_add[0][0]               \n",
            "__________________________________________________________________________________________________\n",
            "block_16_expand_BN (BatchNormal (None, 5, 5, 960)    3840        block_16_expand[0][0]            \n",
            "__________________________________________________________________________________________________\n",
            "block_16_expand_relu (ReLU)     (None, 5, 5, 960)    0           block_16_expand_BN[0][0]         \n",
            "__________________________________________________________________________________________________\n",
            "block_16_depthwise (DepthwiseCo (None, 5, 5, 960)    8640        block_16_expand_relu[0][0]       \n",
            "__________________________________________________________________________________________________\n",
            "block_16_depthwise_BN (BatchNor (None, 5, 5, 960)    3840        block_16_depthwise[0][0]         \n",
            "__________________________________________________________________________________________________\n",
            "block_16_depthwise_relu (ReLU)  (None, 5, 5, 960)    0           block_16_depthwise_BN[0][0]      \n",
            "__________________________________________________________________________________________________\n",
            "block_16_project (Conv2D)       (None, 5, 5, 320)    307200      block_16_depthwise_relu[0][0]    \n",
            "__________________________________________________________________________________________________\n",
            "block_16_project_BN (BatchNorma (None, 5, 5, 320)    1280        block_16_project[0][0]           \n",
            "__________________________________________________________________________________________________\n",
            "Conv_1 (Conv2D)                 (None, 5, 5, 1280)   409600      block_16_project_BN[0][0]        \n",
            "__________________________________________________________________________________________________\n",
            "Conv_1_bn (BatchNormalizationV1 (None, 5, 5, 1280)   5120        Conv_1[0][0]                     \n",
            "__________________________________________________________________________________________________\n",
            "out_relu (ReLU)                 (None, 5, 5, 1280)   0           Conv_1_bn[0][0]                  \n",
            "==================================================================================================\n",
            "Total params: 2,257,984\n",
            "Trainable params: 0\n",
            "Non-trainable params: 2,257,984\n",
            "__________________________________________________________________________________________________\n"
          ],
          "name": "stdout"
        }
      ]
    },
    {
      "cell_type": "code",
      "metadata": {
        "id": "cqtQNLKyUx7m",
        "colab_type": "code",
        "colab": {}
      },
      "source": [
        "model = tf.keras.Sequential([\n",
        "  base_model,\n",
        "  keras.layers.GlobalAveragePooling2D(),\n",
        "  keras.layers.Dense(5, activation='sigmoid')\n",
        "])"
      ],
      "execution_count": 0,
      "outputs": []
    },
    {
      "cell_type": "code",
      "metadata": {
        "id": "ujyil_IGU6Pa",
        "colab_type": "code",
        "outputId": "caf97442-80fd-48d8-edeb-5fea4c2247db",
        "colab": {
          "base_uri": "https://localhost:8080/",
          "height": 235
        }
      },
      "source": [
        "model.compile(optimizer=tf.keras.optimizers.Adam(lr = 0.0001),\n",
        "              loss='categorical_crossentropy',\n",
        "              metrics=['categorical_accuracy'])\n",
        "\n",
        "model.summary()"
      ],
      "execution_count": 0,
      "outputs": [
        {
          "output_type": "stream",
          "text": [
            "_________________________________________________________________\n",
            "Layer (type)                 Output Shape              Param #   \n",
            "=================================================================\n",
            "mobilenetv2_1.00_160 (Model) (None, 5, 5, 1280)        2257984   \n",
            "_________________________________________________________________\n",
            "global_average_pooling2d (Gl (None, 1280)              0         \n",
            "_________________________________________________________________\n",
            "dense (Dense)                (None, 5)                 6405      \n",
            "=================================================================\n",
            "Total params: 2,264,389\n",
            "Trainable params: 6,405\n",
            "Non-trainable params: 2,257,984\n",
            "_________________________________________________________________\n"
          ],
          "name": "stdout"
        }
      ]
    },
    {
      "cell_type": "code",
      "metadata": {
        "id": "WWqymwEnVBi3",
        "colab_type": "code",
        "outputId": "10d4b285-f361-4d6e-e8a0-af2f9903f9be",
        "colab": {
          "base_uri": "https://localhost:8080/",
          "height": 34
        }
      },
      "source": [
        "len(model.trainable_variables)"
      ],
      "execution_count": 0,
      "outputs": [
        {
          "output_type": "execute_result",
          "data": {
            "text/plain": [
              "2"
            ]
          },
          "metadata": {
            "tags": []
          },
          "execution_count": 13
        }
      ]
    },
    {
      "cell_type": "code",
      "metadata": {
        "id": "KfOH9gIbVFyR",
        "colab_type": "code",
        "colab": {}
      },
      "source": [
        "epochs = 5\n",
        "steps_per_epoch = train_generator.n // batch_size\n",
        "validation_steps = validation_generator.n // batch_size"
      ],
      "execution_count": 0,
      "outputs": []
    },
    {
      "cell_type": "code",
      "metadata": {
        "id": "kb-20nx1VJma",
        "colab_type": "code",
        "colab": {}
      },
      "source": [
        "checkpoint_path = PATH + \"training_1/cp_v2.ckpt\"\n",
        "checkpoint_dir = os.path.dirname(checkpoint_path)\n",
        "\n",
        "# Create checkpoint callback\n",
        "cp_callback = tf.keras.callbacks.ModelCheckpoint(checkpoint_path, period = 2,\n",
        "                                                 verbose=1)"
      ],
      "execution_count": 0,
      "outputs": []
    },
    {
      "cell_type": "code",
      "metadata": {
        "id": "d9Sri7wWVXan",
        "colab_type": "code",
        "outputId": "dba10c52-af38-4873-fb88-f5c0c05ca4f6",
        "colab": {
          "base_uri": "https://localhost:8080/",
          "height": 406
        }
      },
      "source": [
        "history = model.fit_generator(train_generator,\n",
        "                              steps_per_epoch = steps_per_epoch,\n",
        "                              epochs=epochs,\n",
        "                              workers=4,\n",
        "                              validation_data=validation_generator,\n",
        "                              validation_steps=validation_steps,\n",
        "                             callbacks = [cp_callback])"
      ],
      "execution_count": 0,
      "outputs": [
        {
          "output_type": "stream",
          "text": [
            "WARNING:tensorflow:From /usr/local/lib/python3.6/dist-packages/tensorflow/python/ops/math_ops.py:3066: to_int32 (from tensorflow.python.ops.math_ops) is deprecated and will be removed in a future version.\n",
            "Instructions for updating:\n",
            "Use tf.cast instead.\n",
            "Epoch 1/5\n",
            "40/40 [==============================] - 3s 72ms/step - loss: 1.5297 - categorical_accuracy: 0.3392\n",
            "157/157 [==============================] - 17s 106ms/step - loss: 1.4936 - categorical_accuracy: 0.3343 - val_loss: 1.5297 - val_categorical_accuracy: 0.3392\n",
            "Epoch 2/5\n",
            "40/40 [==============================] - 2s 60ms/step - loss: 1.3159 - categorical_accuracy: 0.4397\n",
            "\n",
            "Epoch 00002: saving model to /content/gdrive/My Drive/AV_GoT_Ships/training_1/cp_v2.ckpt\n",
            "157/157 [==============================] - 12s 79ms/step - loss: 1.2025 - categorical_accuracy: 0.5223 - val_loss: 1.3159 - val_categorical_accuracy: 0.4397\n",
            "Epoch 3/5\n",
            "40/40 [==============================] - 3s 69ms/step - loss: 1.1574 - categorical_accuracy: 0.5387\n",
            "157/157 [==============================] - 12s 79ms/step - loss: 0.9239 - categorical_accuracy: 0.6775 - val_loss: 1.1574 - val_categorical_accuracy: 0.5387\n",
            "Epoch 4/5\n",
            "40/40 [==============================] - 2s 60ms/step - loss: 0.9939 - categorical_accuracy: 0.6297\n",
            "\n",
            "Epoch 00004: saving model to /content/gdrive/My Drive/AV_GoT_Ships/training_1/cp_v2.ckpt\n",
            "157/157 [==============================] - 12s 77ms/step - loss: 0.7787 - categorical_accuracy: 0.7309 - val_loss: 0.9939 - val_categorical_accuracy: 0.6297\n",
            "Epoch 5/5\n",
            "40/40 [==============================] - 2s 61ms/step - loss: 0.8888 - categorical_accuracy: 0.6600\n",
            "157/157 [==============================] - 11s 72ms/step - loss: 0.7023 - categorical_accuracy: 0.7548 - val_loss: 0.8888 - val_categorical_accuracy: 0.6600\n"
          ],
          "name": "stdout"
        }
      ]
    },
    {
      "cell_type": "code",
      "metadata": {
        "id": "UUyzd4QDWOuq",
        "colab_type": "code",
        "outputId": "9ec9d3f6-8c1a-47d2-ee47-233389d9e6e7",
        "colab": {
          "base_uri": "https://localhost:8080/",
          "height": 34
        }
      },
      "source": [
        "os.listdir(PATH + 'training_1')"
      ],
      "execution_count": 0,
      "outputs": [
        {
          "output_type": "execute_result",
          "data": {
            "text/plain": [
              "['cp.ckpt', 'cp_v2.ckpt']"
            ]
          },
          "metadata": {
            "tags": []
          },
          "execution_count": 17
        }
      ]
    },
    {
      "cell_type": "code",
      "metadata": {
        "id": "JJ638AsAWmgc",
        "colab_type": "code",
        "colab": {}
      },
      "source": [
        "model.save(PATH + 'models_v2/epoch5_26May2019_1437.h5')"
      ],
      "execution_count": 0,
      "outputs": []
    },
    {
      "cell_type": "code",
      "metadata": {
        "id": "twLNhViFZmOG",
        "colab_type": "code",
        "colab": {}
      },
      "source": [
        "epochs = 15\n",
        "steps_per_epoch = train_generator.n // batch_size\n",
        "validation_steps = validation_generator.n // batch_size\n",
        "\n",
        "checkpoint_path = PATH + \"training_2/cp_v2.ckpt\"\n",
        "checkpoint_dir = os.path.dirname(checkpoint_path)\n",
        "\n",
        "# Create checkpoint callback\n",
        "cp_callback = tf.keras.callbacks.ModelCheckpoint(checkpoint_path,\n",
        "                                                 period = 2,\n",
        "                                                 verbose=1)"
      ],
      "execution_count": 0,
      "outputs": []
    },
    {
      "cell_type": "code",
      "metadata": {
        "id": "rlGPd9uTZ8t8",
        "colab_type": "code",
        "outputId": "f68da768-ecbd-416f-e2c4-dd9612c82142",
        "colab": {
          "base_uri": "https://localhost:8080/",
          "height": 1008
        }
      },
      "source": [
        "history = model.fit_generator(train_generator,\n",
        "                              steps_per_epoch = steps_per_epoch,\n",
        "                              epochs=epochs,\n",
        "                              workers=4,\n",
        "                              validation_data=validation_generator,\n",
        "                              validation_steps=validation_steps,\n",
        "                             callbacks = [cp_callback])"
      ],
      "execution_count": 0,
      "outputs": [
        {
          "output_type": "stream",
          "text": [
            "Epoch 1/15\n",
            "40/40 [==============================] - 2s 61ms/step - loss: 0.8108 - categorical_accuracy: 0.6903\n",
            "157/157 [==============================] - 12s 75ms/step - loss: 0.6495 - categorical_accuracy: 0.7720 - val_loss: 0.8108 - val_categorical_accuracy: 0.6903\n",
            "Epoch 2/15\n",
            "40/40 [==============================] - 2s 60ms/step - loss: 0.7270 - categorical_accuracy: 0.7334\n",
            "\n",
            "Epoch 00002: saving model to /content/gdrive/My Drive/AV_GoT_Ships/training_2/cp_v2.ckpt\n",
            "157/157 [==============================] - 12s 73ms/step - loss: 0.6151 - categorical_accuracy: 0.7776 - val_loss: 0.7270 - val_categorical_accuracy: 0.7334\n",
            "Epoch 3/15\n",
            "40/40 [==============================] - 2s 60ms/step - loss: 0.6591 - categorical_accuracy: 0.7574\n",
            "157/157 [==============================] - 11s 73ms/step - loss: 0.5929 - categorical_accuracy: 0.7878 - val_loss: 0.6591 - val_categorical_accuracy: 0.7574\n",
            "Epoch 4/15\n",
            "40/40 [==============================] - 2s 58ms/step - loss: 0.6307 - categorical_accuracy: 0.7749\n",
            "\n",
            "Epoch 00004: saving model to /content/gdrive/My Drive/AV_GoT_Ships/training_2/cp_v2.ckpt\n",
            "157/157 [==============================] - 12s 77ms/step - loss: 0.5668 - categorical_accuracy: 0.7936 - val_loss: 0.6307 - val_categorical_accuracy: 0.7749\n",
            "Epoch 5/15\n",
            "40/40 [==============================] - 2s 61ms/step - loss: 0.5962 - categorical_accuracy: 0.7893\n",
            "157/157 [==============================] - 12s 80ms/step - loss: 0.5532 - categorical_accuracy: 0.8000 - val_loss: 0.5962 - val_categorical_accuracy: 0.7893\n",
            "Epoch 6/15\n",
            "40/40 [==============================] - 2s 60ms/step - loss: 0.5753 - categorical_accuracy: 0.7933\n",
            "\n",
            "Epoch 00006: saving model to /content/gdrive/My Drive/AV_GoT_Ships/training_2/cp_v2.ckpt\n",
            "157/157 [==============================] - 12s 76ms/step - loss: 0.5366 - categorical_accuracy: 0.8062 - val_loss: 0.5753 - val_categorical_accuracy: 0.7933\n",
            "Epoch 7/15\n",
            "40/40 [==============================] - 2s 61ms/step - loss: 0.5624 - categorical_accuracy: 0.7925\n",
            "157/157 [==============================] - 11s 71ms/step - loss: 0.5204 - categorical_accuracy: 0.8138 - val_loss: 0.5624 - val_categorical_accuracy: 0.7925\n",
            "Epoch 8/15\n",
            "40/40 [==============================] - 2s 59ms/step - loss: 0.5405 - categorical_accuracy: 0.7989\n",
            "\n",
            "Epoch 00008: saving model to /content/gdrive/My Drive/AV_GoT_Ships/training_2/cp_v2.ckpt\n",
            "157/157 [==============================] - 12s 76ms/step - loss: 0.5121 - categorical_accuracy: 0.8200 - val_loss: 0.5405 - val_categorical_accuracy: 0.7989\n",
            "Epoch 9/15\n",
            "40/40 [==============================] - 2s 60ms/step - loss: 0.5404 - categorical_accuracy: 0.7949\n",
            "157/157 [==============================] - 11s 71ms/step - loss: 0.4895 - categorical_accuracy: 0.8244 - val_loss: 0.5404 - val_categorical_accuracy: 0.7949\n",
            "Epoch 10/15\n",
            "40/40 [==============================] - 2s 60ms/step - loss: 0.5389 - categorical_accuracy: 0.7989\n",
            "\n",
            "Epoch 00010: saving model to /content/gdrive/My Drive/AV_GoT_Ships/training_2/cp_v2.ckpt\n",
            "157/157 [==============================] - 12s 76ms/step - loss: 0.4860 - categorical_accuracy: 0.8190 - val_loss: 0.5389 - val_categorical_accuracy: 0.7989\n",
            "Epoch 11/15\n",
            "40/40 [==============================] - 2s 62ms/step - loss: 0.5344 - categorical_accuracy: 0.7973\n",
            "157/157 [==============================] - 11s 72ms/step - loss: 0.4825 - categorical_accuracy: 0.8180 - val_loss: 0.5344 - val_categorical_accuracy: 0.7973\n",
            "Epoch 12/15\n",
            "40/40 [==============================] - 2s 60ms/step - loss: 0.5313 - categorical_accuracy: 0.8029\n",
            "\n",
            "Epoch 00012: saving model to /content/gdrive/My Drive/AV_GoT_Ships/training_2/cp_v2.ckpt\n",
            "157/157 [==============================] - 13s 83ms/step - loss: 0.4711 - categorical_accuracy: 0.8242 - val_loss: 0.5313 - val_categorical_accuracy: 0.8029\n",
            "Epoch 13/15\n",
            "40/40 [==============================] - 3s 63ms/step - loss: 0.5285 - categorical_accuracy: 0.8005\n",
            "157/157 [==============================] - 11s 72ms/step - loss: 0.4583 - categorical_accuracy: 0.8352 - val_loss: 0.5285 - val_categorical_accuracy: 0.8005\n",
            "Epoch 14/15\n",
            "40/40 [==============================] - 2s 60ms/step - loss: 0.5269 - categorical_accuracy: 0.8053\n",
            "\n",
            "Epoch 00014: saving model to /content/gdrive/My Drive/AV_GoT_Ships/training_2/cp_v2.ckpt\n",
            "157/157 [==============================] - 13s 86ms/step - loss: 0.4597 - categorical_accuracy: 0.8352 - val_loss: 0.5269 - val_categorical_accuracy: 0.8053\n",
            "Epoch 15/15\n",
            "40/40 [==============================] - 2s 60ms/step - loss: 0.5247 - categorical_accuracy: 0.8021\n",
            "157/157 [==============================] - 11s 71ms/step - loss: 0.4530 - categorical_accuracy: 0.8350 - val_loss: 0.5247 - val_categorical_accuracy: 0.8021\n"
          ],
          "name": "stdout"
        }
      ]
    },
    {
      "cell_type": "code",
      "metadata": {
        "id": "LztsEPU0aL6j",
        "colab_type": "code",
        "colab": {}
      },
      "source": [
        "model.save(PATH + 'models_v2/epoch15_26May2019_1445.h5')"
      ],
      "execution_count": 0,
      "outputs": []
    },
    {
      "cell_type": "code",
      "metadata": {
        "id": "eE1dWVJfbec-",
        "colab_type": "code",
        "colab": {}
      },
      "source": [
        "epochs = 25\n",
        "steps_per_epoch = train_generator.n // batch_size\n",
        "validation_steps = validation_generator.n // batch_size\n",
        "\n",
        "checkpoint_path = PATH + \"training_3/cp_v2.ckpt\"\n",
        "checkpoint_dir = os.path.dirname(checkpoint_path)\n",
        "\n",
        "# Create checkpoint callback\n",
        "cp_callback = tf.keras.callbacks.ModelCheckpoint(checkpoint_path,\n",
        "                                                 period = 2,\n",
        "                                                 verbose=1)"
      ],
      "execution_count": 0,
      "outputs": []
    },
    {
      "cell_type": "code",
      "metadata": {
        "id": "bbIo3ErDb0yX",
        "colab_type": "code",
        "outputId": "c9d24fe9-41dd-4791-8044-00e71a9c1e42",
        "colab": {
          "base_uri": "https://localhost:8080/",
          "height": 1680
        }
      },
      "source": [
        "history = model.fit_generator(train_generator,\n",
        "                              steps_per_epoch = steps_per_epoch,\n",
        "                              epochs=epochs,\n",
        "                              workers=4,\n",
        "                              validation_data=validation_generator,\n",
        "                              validation_steps=validation_steps,\n",
        "                             callbacks = [cp_callback])"
      ],
      "execution_count": 0,
      "outputs": [
        {
          "output_type": "stream",
          "text": [
            "Epoch 1/25\n",
            "40/40 [==============================] - 2s 59ms/step - loss: 0.5144 - categorical_accuracy: 0.8005\n",
            "157/157 [==============================] - 12s 73ms/step - loss: 0.4462 - categorical_accuracy: 0.8356 - val_loss: 0.5144 - val_categorical_accuracy: 0.8005\n",
            "Epoch 2/25\n",
            "40/40 [==============================] - 2s 60ms/step - loss: 0.5101 - categorical_accuracy: 0.7973\n",
            "\n",
            "Epoch 00002: saving model to /content/gdrive/My Drive/AV_GoT_Ships/training_3/cp_v2.ckpt\n",
            "157/157 [==============================] - 11s 73ms/step - loss: 0.4399 - categorical_accuracy: 0.8390 - val_loss: 0.5101 - val_categorical_accuracy: 0.7973\n",
            "Epoch 3/25\n",
            "40/40 [==============================] - 3s 69ms/step - loss: 0.5091 - categorical_accuracy: 0.8021\n",
            "157/157 [==============================] - 12s 75ms/step - loss: 0.4327 - categorical_accuracy: 0.8420 - val_loss: 0.5091 - val_categorical_accuracy: 0.8021\n",
            "Epoch 4/25\n",
            "40/40 [==============================] - 2s 61ms/step - loss: 0.5150 - categorical_accuracy: 0.7973\n",
            "\n",
            "Epoch 00004: saving model to /content/gdrive/My Drive/AV_GoT_Ships/training_3/cp_v2.ckpt\n",
            "157/157 [==============================] - 13s 80ms/step - loss: 0.4311 - categorical_accuracy: 0.8446 - val_loss: 0.5150 - val_categorical_accuracy: 0.7973\n",
            "Epoch 5/25\n",
            "40/40 [==============================] - 2s 60ms/step - loss: 0.5214 - categorical_accuracy: 0.7989\n",
            "157/157 [==============================] - 11s 71ms/step - loss: 0.4200 - categorical_accuracy: 0.8444 - val_loss: 0.5214 - val_categorical_accuracy: 0.7989\n",
            "Epoch 6/25\n",
            "40/40 [==============================] - 2s 60ms/step - loss: 0.5119 - categorical_accuracy: 0.8013\n",
            "\n",
            "Epoch 00006: saving model to /content/gdrive/My Drive/AV_GoT_Ships/training_3/cp_v2.ckpt\n",
            "157/157 [==============================] - 13s 80ms/step - loss: 0.4219 - categorical_accuracy: 0.8446 - val_loss: 0.5119 - val_categorical_accuracy: 0.8013\n",
            "Epoch 7/25\n",
            "40/40 [==============================] - 2s 60ms/step - loss: 0.5043 - categorical_accuracy: 0.7989\n",
            "157/157 [==============================] - 11s 71ms/step - loss: 0.4177 - categorical_accuracy: 0.8450 - val_loss: 0.5043 - val_categorical_accuracy: 0.7989\n",
            "Epoch 8/25\n",
            "40/40 [==============================] - 2s 60ms/step - loss: 0.5043 - categorical_accuracy: 0.7973\n",
            "\n",
            "Epoch 00008: saving model to /content/gdrive/My Drive/AV_GoT_Ships/training_3/cp_v2.ckpt\n",
            "157/157 [==============================] - 12s 75ms/step - loss: 0.4214 - categorical_accuracy: 0.8470 - val_loss: 0.5043 - val_categorical_accuracy: 0.7973\n",
            "Epoch 9/25\n",
            "40/40 [==============================] - 2s 60ms/step - loss: 0.5058 - categorical_accuracy: 0.7957\n",
            "157/157 [==============================] - 11s 71ms/step - loss: 0.4030 - categorical_accuracy: 0.8506 - val_loss: 0.5058 - val_categorical_accuracy: 0.7957\n",
            "Epoch 10/25\n",
            "40/40 [==============================] - 3s 68ms/step - loss: 0.5080 - categorical_accuracy: 0.7925\n",
            "\n",
            "Epoch 00010: saving model to /content/gdrive/My Drive/AV_GoT_Ships/training_3/cp_v2.ckpt\n",
            "157/157 [==============================] - 13s 82ms/step - loss: 0.3984 - categorical_accuracy: 0.8510 - val_loss: 0.5080 - val_categorical_accuracy: 0.7925\n",
            "Epoch 11/25\n",
            "40/40 [==============================] - 2s 59ms/step - loss: 0.5055 - categorical_accuracy: 0.7909\n",
            "157/157 [==============================] - 12s 74ms/step - loss: 0.3988 - categorical_accuracy: 0.8530 - val_loss: 0.5055 - val_categorical_accuracy: 0.7909\n",
            "Epoch 12/25\n",
            "40/40 [==============================] - 2s 60ms/step - loss: 0.5043 - categorical_accuracy: 0.7893\n",
            "\n",
            "Epoch 00012: saving model to /content/gdrive/My Drive/AV_GoT_Ships/training_3/cp_v2.ckpt\n",
            "157/157 [==============================] - 12s 75ms/step - loss: 0.4010 - categorical_accuracy: 0.8550 - val_loss: 0.5043 - val_categorical_accuracy: 0.7893\n",
            "Epoch 13/25\n",
            "40/40 [==============================] - 2s 61ms/step - loss: 0.5032 - categorical_accuracy: 0.7965\n",
            "157/157 [==============================] - 11s 71ms/step - loss: 0.3999 - categorical_accuracy: 0.8548 - val_loss: 0.5032 - val_categorical_accuracy: 0.7965\n",
            "Epoch 14/25\n",
            "40/40 [==============================] - 2s 60ms/step - loss: 0.5022 - categorical_accuracy: 0.7957\n",
            "\n",
            "Epoch 00014: saving model to /content/gdrive/My Drive/AV_GoT_Ships/training_3/cp_v2.ckpt\n",
            "157/157 [==============================] - 12s 76ms/step - loss: 0.3855 - categorical_accuracy: 0.8546 - val_loss: 0.5022 - val_categorical_accuracy: 0.7957\n",
            "Epoch 15/25\n",
            "40/40 [==============================] - 2s 61ms/step - loss: 0.5034 - categorical_accuracy: 0.7965\n",
            "157/157 [==============================] - 11s 72ms/step - loss: 0.3876 - categorical_accuracy: 0.8604 - val_loss: 0.5034 - val_categorical_accuracy: 0.7965\n",
            "Epoch 16/25\n",
            "40/40 [==============================] - 2s 60ms/step - loss: 0.5012 - categorical_accuracy: 0.7933\n",
            "\n",
            "Epoch 00016: saving model to /content/gdrive/My Drive/AV_GoT_Ships/training_3/cp_v2.ckpt\n",
            "157/157 [==============================] - 12s 76ms/step - loss: 0.3947 - categorical_accuracy: 0.8520 - val_loss: 0.5012 - val_categorical_accuracy: 0.7933\n",
            "Epoch 17/25\n",
            "40/40 [==============================] - 3s 68ms/step - loss: 0.5014 - categorical_accuracy: 0.7925\n",
            "157/157 [==============================] - 12s 78ms/step - loss: 0.3877 - categorical_accuracy: 0.8548 - val_loss: 0.5014 - val_categorical_accuracy: 0.7925\n",
            "Epoch 18/25\n",
            "40/40 [==============================] - 2s 60ms/step - loss: 0.5016 - categorical_accuracy: 0.7933\n",
            "\n",
            "Epoch 00018: saving model to /content/gdrive/My Drive/AV_GoT_Ships/training_3/cp_v2.ckpt\n",
            "157/157 [==============================] - 12s 76ms/step - loss: 0.3833 - categorical_accuracy: 0.8570 - val_loss: 0.5016 - val_categorical_accuracy: 0.7933\n",
            "Epoch 19/25\n",
            "40/40 [==============================] - 2s 61ms/step - loss: 0.4993 - categorical_accuracy: 0.7933\n",
            "157/157 [==============================] - 11s 72ms/step - loss: 0.3778 - categorical_accuracy: 0.8584 - val_loss: 0.4993 - val_categorical_accuracy: 0.7933\n",
            "Epoch 20/25\n",
            "40/40 [==============================] - 2s 59ms/step - loss: 0.5001 - categorical_accuracy: 0.7925\n",
            "\n",
            "Epoch 00020: saving model to /content/gdrive/My Drive/AV_GoT_Ships/training_3/cp_v2.ckpt\n",
            "157/157 [==============================] - 12s 75ms/step - loss: 0.3625 - categorical_accuracy: 0.8638 - val_loss: 0.5001 - val_categorical_accuracy: 0.7925\n",
            "Epoch 21/25\n",
            "40/40 [==============================] - 3s 67ms/step - loss: 0.4996 - categorical_accuracy: 0.7949\n",
            "157/157 [==============================] - 11s 73ms/step - loss: 0.3802 - categorical_accuracy: 0.8572 - val_loss: 0.4996 - val_categorical_accuracy: 0.7949\n",
            "Epoch 22/25\n",
            "40/40 [==============================] - 2s 59ms/step - loss: 0.5001 - categorical_accuracy: 0.7989\n",
            "\n",
            "Epoch 00022: saving model to /content/gdrive/My Drive/AV_GoT_Ships/training_3/cp_v2.ckpt\n",
            "157/157 [==============================] - 12s 76ms/step - loss: 0.3667 - categorical_accuracy: 0.8654 - val_loss: 0.5001 - val_categorical_accuracy: 0.7989\n",
            "Epoch 23/25\n",
            "40/40 [==============================] - 2s 60ms/step - loss: 0.4982 - categorical_accuracy: 0.7941\n",
            "157/157 [==============================] - 11s 72ms/step - loss: 0.3864 - categorical_accuracy: 0.8602 - val_loss: 0.4982 - val_categorical_accuracy: 0.7941\n",
            "Epoch 24/25\n",
            "40/40 [==============================] - 3s 67ms/step - loss: 0.4983 - categorical_accuracy: 0.7957\n",
            "\n",
            "Epoch 00024: saving model to /content/gdrive/My Drive/AV_GoT_Ships/training_3/cp_v2.ckpt\n",
            "157/157 [==============================] - 13s 84ms/step - loss: 0.3642 - categorical_accuracy: 0.8670 - val_loss: 0.4983 - val_categorical_accuracy: 0.7957\n",
            "Epoch 25/25\n",
            "40/40 [==============================] - 3s 69ms/step - loss: 0.4988 - categorical_accuracy: 0.7965\n",
            "157/157 [==============================] - 13s 82ms/step - loss: 0.3586 - categorical_accuracy: 0.8630 - val_loss: 0.4988 - val_categorical_accuracy: 0.7965\n"
          ],
          "name": "stdout"
        }
      ]
    },
    {
      "cell_type": "code",
      "metadata": {
        "id": "WBGP65wTcBy5",
        "colab_type": "code",
        "colab": {}
      },
      "source": [
        "model.save(PATH + 'models_v2/epoch25_26May2019_1500.h5')"
      ],
      "execution_count": 0,
      "outputs": []
    },
    {
      "cell_type": "code",
      "metadata": {
        "id": "RAz90wLpc6lm",
        "colab_type": "code",
        "colab": {}
      },
      "source": [
        "import pandas as pd\n",
        "\n",
        "allDF = list()\n",
        "pred = dict()\n",
        "pred['Cargo'] = 0.8\n",
        "pred['Carrier'] = 0.1\n",
        "pred['Cruise'] = 0.3\n",
        "pred['Military'] = 0.1\n",
        "pred['Tankers'] = 0.24\n",
        "allDF.append(pred)\n",
        "\n",
        "\n",
        "pred = dict()\n",
        "pred['Cargo'] = 0.4\n",
        "pred['Carrier'] = 0.3\n",
        "pred['Cruise'] = 0.4\n",
        "pred['Military'] = 0.7\n",
        "pred['Tankers'] = 0.15\n",
        "allDF.append(pred)\n",
        "\n",
        "pred = dict()\n",
        "pred['Cargo'] = 0.2\n",
        "pred['Carrier'] = 0.04\n",
        "pred['Cruise'] = 0.1\n",
        "pred['Military'] = 0.4\n",
        "pred['Tankers'] = 0.6\n",
        "allDF.append(pred)\n",
        "\n",
        "pred = dict()\n",
        "pred['Cargo'] = 0.12\n",
        "pred['Carrier'] = 0.15\n",
        "pred['Cruise'] = 0.26\n",
        "pred['Military'] = 0.11\n",
        "pred['Tankers'] = 0.56\n",
        "allDF.append(pred)\n",
        "\n",
        "all_data =pd.DataFrame(allDF)"
      ],
      "execution_count": 0,
      "outputs": []
    },
    {
      "cell_type": "code",
      "metadata": {
        "id": "naKim6K4NZ1g",
        "colab_type": "code",
        "colab": {}
      },
      "source": [
        "import numpy as np"
      ],
      "execution_count": 0,
      "outputs": []
    },
    {
      "cell_type": "code",
      "metadata": {
        "id": "UPWr6A-_NeI3",
        "colab_type": "code",
        "outputId": "b60ee2b4-b86e-4023-83de-565a5abafaa3",
        "colab": {
          "base_uri": "https://localhost:8080/",
          "height": 166
        }
      },
      "source": [
        "all_data.drop(labels = ['category'], inplace=True, axis = 1)\n",
        "all_data"
      ],
      "execution_count": 0,
      "outputs": [
        {
          "output_type": "execute_result",
          "data": {
            "text/html": [
              "<div>\n",
              "<style scoped>\n",
              "    .dataframe tbody tr th:only-of-type {\n",
              "        vertical-align: middle;\n",
              "    }\n",
              "\n",
              "    .dataframe tbody tr th {\n",
              "        vertical-align: top;\n",
              "    }\n",
              "\n",
              "    .dataframe thead th {\n",
              "        text-align: right;\n",
              "    }\n",
              "</style>\n",
              "<table border=\"1\" class=\"dataframe\">\n",
              "  <thead>\n",
              "    <tr style=\"text-align: right;\">\n",
              "      <th></th>\n",
              "      <th>Cargo</th>\n",
              "      <th>Carrier</th>\n",
              "      <th>Cruise</th>\n",
              "      <th>Military</th>\n",
              "      <th>Tankers</th>\n",
              "    </tr>\n",
              "  </thead>\n",
              "  <tbody>\n",
              "    <tr>\n",
              "      <th>0</th>\n",
              "      <td>0.80</td>\n",
              "      <td>0.10</td>\n",
              "      <td>0.30</td>\n",
              "      <td>0.10</td>\n",
              "      <td>0.24</td>\n",
              "    </tr>\n",
              "    <tr>\n",
              "      <th>1</th>\n",
              "      <td>0.40</td>\n",
              "      <td>0.30</td>\n",
              "      <td>0.40</td>\n",
              "      <td>0.70</td>\n",
              "      <td>0.15</td>\n",
              "    </tr>\n",
              "    <tr>\n",
              "      <th>2</th>\n",
              "      <td>0.20</td>\n",
              "      <td>0.04</td>\n",
              "      <td>0.10</td>\n",
              "      <td>0.40</td>\n",
              "      <td>0.60</td>\n",
              "    </tr>\n",
              "    <tr>\n",
              "      <th>3</th>\n",
              "      <td>0.12</td>\n",
              "      <td>0.15</td>\n",
              "      <td>0.26</td>\n",
              "      <td>0.11</td>\n",
              "      <td>0.56</td>\n",
              "    </tr>\n",
              "  </tbody>\n",
              "</table>\n",
              "</div>"
            ],
            "text/plain": [
              "   Cargo  Carrier  Cruise  Military  Tankers\n",
              "0   0.80     0.10    0.30      0.10     0.24\n",
              "1   0.40     0.30    0.40      0.70     0.15\n",
              "2   0.20     0.04    0.10      0.40     0.60\n",
              "3   0.12     0.15    0.26      0.11     0.56"
            ]
          },
          "metadata": {
            "tags": []
          },
          "execution_count": 36
        }
      ]
    },
    {
      "cell_type": "code",
      "metadata": {
        "id": "wJqKNODLOb6r",
        "colab_type": "code",
        "outputId": "53471c65-3da3-44be-89ae-a28c117b490c",
        "colab": {
          "base_uri": "https://localhost:8080/",
          "height": 151
        }
      },
      "source": [
        "all_data['category'] = all_data.apply( np.argmax, axis = 1)"
      ],
      "execution_count": 0,
      "outputs": [
        {
          "output_type": "stream",
          "text": [
            "/usr/local/lib/python3.6/dist-packages/numpy/core/fromnumeric.py:56: FutureWarning: \n",
            "The current behaviour of 'Series.argmax' is deprecated, use 'idxmax'\n",
            "instead.\n",
            "The behavior of 'argmax' will be corrected to return the positional\n",
            "maximum in the future. For now, use 'series.values.argmax' or\n",
            "'np.argmax(np.array(values))' to get the position of the maximum\n",
            "row.\n",
            "  return getattr(obj, method)(*args, **kwds)\n"
          ],
          "name": "stderr"
        }
      ]
    },
    {
      "cell_type": "code",
      "metadata": {
        "id": "zDNrI-SkPupJ",
        "colab_type": "code",
        "outputId": "59651994-3992-4303-e602-be24d3dc1052",
        "colab": {
          "base_uri": "https://localhost:8080/",
          "height": 166
        }
      },
      "source": [
        "all_data"
      ],
      "execution_count": 0,
      "outputs": [
        {
          "output_type": "execute_result",
          "data": {
            "text/html": [
              "<div>\n",
              "<style scoped>\n",
              "    .dataframe tbody tr th:only-of-type {\n",
              "        vertical-align: middle;\n",
              "    }\n",
              "\n",
              "    .dataframe tbody tr th {\n",
              "        vertical-align: top;\n",
              "    }\n",
              "\n",
              "    .dataframe thead th {\n",
              "        text-align: right;\n",
              "    }\n",
              "</style>\n",
              "<table border=\"1\" class=\"dataframe\">\n",
              "  <thead>\n",
              "    <tr style=\"text-align: right;\">\n",
              "      <th></th>\n",
              "      <th>Cargo</th>\n",
              "      <th>Carrier</th>\n",
              "      <th>Cruise</th>\n",
              "      <th>Military</th>\n",
              "      <th>Tankers</th>\n",
              "      <th>category</th>\n",
              "    </tr>\n",
              "  </thead>\n",
              "  <tbody>\n",
              "    <tr>\n",
              "      <th>0</th>\n",
              "      <td>0.80</td>\n",
              "      <td>0.10</td>\n",
              "      <td>0.30</td>\n",
              "      <td>0.10</td>\n",
              "      <td>0.24</td>\n",
              "      <td>Cargo</td>\n",
              "    </tr>\n",
              "    <tr>\n",
              "      <th>1</th>\n",
              "      <td>0.40</td>\n",
              "      <td>0.30</td>\n",
              "      <td>0.40</td>\n",
              "      <td>0.70</td>\n",
              "      <td>0.15</td>\n",
              "      <td>Military</td>\n",
              "    </tr>\n",
              "    <tr>\n",
              "      <th>2</th>\n",
              "      <td>0.20</td>\n",
              "      <td>0.04</td>\n",
              "      <td>0.10</td>\n",
              "      <td>0.40</td>\n",
              "      <td>0.60</td>\n",
              "      <td>Tankers</td>\n",
              "    </tr>\n",
              "    <tr>\n",
              "      <th>3</th>\n",
              "      <td>0.12</td>\n",
              "      <td>0.15</td>\n",
              "      <td>0.26</td>\n",
              "      <td>0.11</td>\n",
              "      <td>0.56</td>\n",
              "      <td>Tankers</td>\n",
              "    </tr>\n",
              "  </tbody>\n",
              "</table>\n",
              "</div>"
            ],
            "text/plain": [
              "   Cargo  Carrier  Cruise  Military  Tankers  category\n",
              "0   0.80     0.10    0.30      0.10     0.24     Cargo\n",
              "1   0.40     0.30    0.40      0.70     0.15  Military\n",
              "2   0.20     0.04    0.10      0.40     0.60   Tankers\n",
              "3   0.12     0.15    0.26      0.11     0.56   Tankers"
            ]
          },
          "metadata": {
            "tags": []
          },
          "execution_count": 4
        }
      ]
    },
    {
      "cell_type": "code",
      "metadata": {
        "id": "TQx2RX1GPw9P",
        "colab_type": "code",
        "outputId": "c58076a2-70ad-4e74-b3cb-3afecd0c7483",
        "colab": {
          "base_uri": "https://localhost:8080/",
          "height": 235
        }
      },
      "source": [
        "all_data[['Cargo', 'Carrier', 'Cruise', 'Military', 'Tankers']].apply(np.argmax, axis=1)"
      ],
      "execution_count": 0,
      "outputs": [
        {
          "output_type": "stream",
          "text": [
            "/usr/local/lib/python3.6/dist-packages/numpy/core/fromnumeric.py:56: FutureWarning: \n",
            "The current behaviour of 'Series.argmax' is deprecated, use 'idxmax'\n",
            "instead.\n",
            "The behavior of 'argmax' will be corrected to return the positional\n",
            "maximum in the future. For now, use 'series.values.argmax' or\n",
            "'np.argmax(np.array(values))' to get the position of the maximum\n",
            "row.\n",
            "  return getattr(obj, method)(*args, **kwds)\n"
          ],
          "name": "stderr"
        },
        {
          "output_type": "execute_result",
          "data": {
            "text/plain": [
              "0       Cargo\n",
              "1    Military\n",
              "2     Tankers\n",
              "3     Tankers\n",
              "dtype: object"
            ]
          },
          "metadata": {
            "tags": []
          },
          "execution_count": 7
        }
      ]
    },
    {
      "cell_type": "code",
      "metadata": {
        "id": "ZCmgjCZhXBly",
        "colab_type": "code",
        "colab": {}
      },
      "source": [
        ""
      ],
      "execution_count": 0,
      "outputs": []
    }
  ]
}