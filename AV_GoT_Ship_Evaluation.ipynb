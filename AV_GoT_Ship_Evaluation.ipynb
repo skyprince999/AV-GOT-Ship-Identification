{
  "nbformat": 4,
  "nbformat_minor": 0,
  "metadata": {
    "colab": {
      "name": "AV_GoT_Ship_Evaluation.ipynb",
      "version": "0.3.2",
      "provenance": [],
      "collapsed_sections": [],
      "include_colab_link": true
    },
    "kernelspec": {
      "name": "python3",
      "display_name": "Python 3"
    },
    "accelerator": "GPU"
  },
  "cells": [
    {
      "cell_type": "markdown",
      "metadata": {
        "id": "view-in-github",
        "colab_type": "text"
      },
      "source": [
        "<a href=\"https://colab.research.google.com/github/skyprince999/AV-GOT-Ship-Identification/blob/master/AV_GoT_Ship_Evaluation.ipynb\" target=\"_parent\"><img src=\"https://colab.research.google.com/assets/colab-badge.svg\" alt=\"Open In Colab\"/></a>"
      ]
    },
    {
      "cell_type": "code",
      "metadata": {
        "id": "fmc6taz2NcFh",
        "colab_type": "code",
        "outputId": "c72edbf2-c539-468c-c48e-40d8b104a594",
        "colab": {
          "base_uri": "https://localhost:8080/",
          "height": 34
        }
      },
      "source": [
        "from __future__ import absolute_import, division, print_function, unicode_literals\n",
        "\n",
        "import os\n",
        "import sys\n",
        "\n",
        "import pandas as pd\n",
        "import numpy as np\n",
        "\n",
        "import tensorflow as tf\n",
        "from tensorflow import keras\n",
        "print(\"TensorFlow version is \", tf.__version__)\n",
        "\n",
        "import matplotlib.pyplot as plt\n",
        "import matplotlib.image as mpimg\n",
        "import PIL.Image as Image\n",
        "from IPython.display import clear_output"
      ],
      "execution_count": 0,
      "outputs": [
        {
          "output_type": "stream",
          "text": [
            "TensorFlow version is  1.13.1\n"
          ],
          "name": "stdout"
        }
      ]
    },
    {
      "cell_type": "code",
      "metadata": {
        "id": "QRPoKwuvipeH",
        "colab_type": "code",
        "outputId": "6cc9775f-5067-4981-f269-b5a7a5f4e0a6",
        "colab": {
          "base_uri": "https://localhost:8080/",
          "height": 121
        }
      },
      "source": [
        "from google.colab import drive\n",
        "drive.mount('/content/gdrive')"
      ],
      "execution_count": 0,
      "outputs": [
        {
          "output_type": "stream",
          "text": [
            "Go to this URL in a browser: https://accounts.google.com/o/oauth2/auth?client_id=947318989803-6bn6qk8qdgf4n4g3pfee6491hc0brc4i.apps.googleusercontent.com&redirect_uri=urn%3Aietf%3Awg%3Aoauth%3A2.0%3Aoob&scope=email%20https%3A%2F%2Fwww.googleapis.com%2Fauth%2Fdocs.test%20https%3A%2F%2Fwww.googleapis.com%2Fauth%2Fdrive%20https%3A%2F%2Fwww.googleapis.com%2Fauth%2Fdrive.photos.readonly%20https%3A%2F%2Fwww.googleapis.com%2Fauth%2Fpeopleapi.readonly&response_type=code\n",
            "\n",
            "Enter your authorization code:\n",
            "··········\n",
            "Mounted at /content/gdrive\n"
          ],
          "name": "stdout"
        }
      ]
    },
    {
      "cell_type": "code",
      "metadata": {
        "id": "uKQaxMfeTHQT",
        "colab_type": "code",
        "colab": {}
      },
      "source": [
        "sys.path.insert(0, '/content/gdrive/My Drive/Colab Notebooks/my_modules')\n",
        "import unzipFiles"
      ],
      "execution_count": 0,
      "outputs": []
    },
    {
      "cell_type": "code",
      "metadata": {
        "id": "JSCuZ7SBTMPc",
        "colab_type": "code",
        "outputId": "bf5b7bb6-7747-4914-8a58-8e30d181df49",
        "colab": {
          "base_uri": "https://localhost:8080/",
          "height": 168
        }
      },
      "source": [
        "PATH = '/content/gdrive/My Drive/AV_GoT_Ships/'\n",
        "\n",
        "categories = {'Cargo': 1, \n",
        "'Military': 2, \n",
        "'Carrier': 3, \n",
        "'Cruise': 4, \n",
        "'Tankers': 5}\n",
        "\n",
        "os.listdir(PATH)"
      ],
      "execution_count": 0,
      "outputs": [
        {
          "output_type": "execute_result",
          "data": {
            "text/plain": [
              "['train.zip',\n",
              " 'test.csv',\n",
              " 'sample_submission.csv',\n",
              " 'models',\n",
              " 'submission_mobilenet_25May2019_2335.csv',\n",
              " 'training_1',\n",
              " 'training_2',\n",
              " 'training_3',\n",
              " 'models_v2']"
            ]
          },
          "metadata": {
            "tags": []
          },
          "execution_count": 4
        }
      ]
    },
    {
      "cell_type": "code",
      "metadata": {
        "id": "cUBheH1WTP0o",
        "colab_type": "code",
        "outputId": "9289c45c-6e41-48e1-c504-b0355041dae2",
        "colab": {
          "base_uri": "https://localhost:8080/",
          "height": 134
        }
      },
      "source": [
        "unzipFiles.copyTest(PATH)\n",
        "unzipFiles.unzipData(PATH)\n",
        "unzipFiles.copyTrainValid(categories)"
      ],
      "execution_count": 0,
      "outputs": [
        {
          "output_type": "stream",
          "text": [
            "['.config', 'sample_submission.csv', 'gdrive', 'test.csv', 'sample_data']\n",
            "Unzipped Successful\n",
            "['.config', '__MACOSX', 'sample_submission.csv', 'gdrive', 'images', 'train.csv', 'test.csv', 'sample_data']\n",
            "['.config', '__MACOSX', 'sample_submission.csv', 'gdrive', 'images', 'train.csv', 'test.csv', 'sample_data']\n",
            "Shape of train file:  (6252, 2)\n",
            "Number of categories:  5\n"
          ],
          "name": "stdout"
        },
        {
          "output_type": "execute_result",
          "data": {
            "text/plain": [
              "0"
            ]
          },
          "metadata": {
            "tags": []
          },
          "execution_count": 5
        }
      ]
    },
    {
      "cell_type": "code",
      "metadata": {
        "id": "deDV7cFo4q-M",
        "colab_type": "code",
        "outputId": "b9a15283-072d-4236-ae28-e27ccc199731",
        "colab": {
          "base_uri": "https://localhost:8080/",
          "height": 34
        }
      },
      "source": [
        "os.listdir('train')"
      ],
      "execution_count": 0,
      "outputs": [
        {
          "output_type": "execute_result",
          "data": {
            "text/plain": [
              "['2', '4', '3', '1', '5']"
            ]
          },
          "metadata": {
            "tags": []
          },
          "execution_count": 7
        }
      ]
    },
    {
      "cell_type": "code",
      "metadata": {
        "id": "293nZ8qe4-kj",
        "colab_type": "code",
        "outputId": "d3ad1e2b-f1f9-46db-eaf8-d1a6599bfac9",
        "colab": {
          "base_uri": "https://localhost:8080/",
          "height": 34
        }
      },
      "source": [
        "# Download random 10 images from each class\n",
        "\n",
        "trainDF = pd.read_csv('train.csv')\n",
        "print(trainDF.shape)"
      ],
      "execution_count": 0,
      "outputs": [
        {
          "output_type": "stream",
          "text": [
            "(6252, 2)\n"
          ],
          "name": "stdout"
        }
      ]
    },
    {
      "cell_type": "code",
      "metadata": {
        "id": "RrR_ltyB5tOr",
        "colab_type": "code",
        "colab": {}
      },
      "source": [
        "from google.colab import files"
      ],
      "execution_count": 0,
      "outputs": []
    },
    {
      "cell_type": "code",
      "metadata": {
        "id": "vkB0HfPq5Jr1",
        "colab_type": "code",
        "outputId": "ba863bbf-e3cf-4064-f499-d4738ea926a0",
        "colab": {
          "base_uri": "https://localhost:8080/",
          "height": 605
        }
      },
      "source": [
        "for i in range(1,6):\n",
        "  categoryDF = trainDF[ trainDF['category'] == i]\n",
        "  sample = categoryDF.sample( n=15, random_state = 987)\n",
        "  print(i)\n",
        "  print(sample.shape)\n",
        "  for filename in sample['image']:\n",
        "    filePath = 'train/' + str(i) +'/' + filename\n",
        "    try:\n",
        "      files.download(filePath)\n",
        "    except:\n",
        "      print('Error: Unable to find file: ', filename)\n",
        "    \n",
        "  input(\"Press enter to continue....\")\n",
        "    "
      ],
      "execution_count": 0,
      "outputs": [
        {
          "output_type": "stream",
          "text": [
            "1\n",
            "(15, 2)\n",
            "Error: Unable to find file:  2870005.jpg\n",
            "Error: Unable to find file:  2835454.jpg\n",
            "Error: Unable to find file:  2792316.jpg\n",
            "Error: Unable to find file:  2892555.jpg\n",
            "Press enter to continue....\n",
            "2\n",
            "(15, 2)\n",
            "Error: Unable to find file:  2743443.jpg\n",
            "Error: Unable to find file:  2885510.jpg\n",
            "Error: Unable to find file:  964374.jpg\n",
            "Error: Unable to find file:  2456597.jpg\n",
            "Press enter to continue....\n",
            "3\n",
            "(15, 2)\n",
            "Error: Unable to find file:  2901437.jpg\n",
            "Press enter to continue....\n",
            "4\n",
            "(15, 2)\n",
            "Error: Unable to find file:  627875.jpg\n",
            "Error: Unable to find file:  1073645.jpg\n",
            "Error: Unable to find file:  2792128.jpg\n",
            "Error: Unable to find file:  906470.jpg\n",
            "Error: Unable to find file:  1788614.jpg\n",
            "Error: Unable to find file:  2880420.jpg\n",
            "Error: Unable to find file:  2494294.jpg\n",
            "Error: Unable to find file:  1820874.jpg\n",
            "Press enter to continue....\n",
            "5\n",
            "(15, 2)\n",
            "Error: Unable to find file:  2796339.jpg\n",
            "Error: Unable to find file:  2818899.jpg\n",
            "Error: Unable to find file:  2892419.jpg\n",
            "Press enter to continue....\n"
          ],
          "name": "stdout"
        }
      ]
    },
    {
      "cell_type": "code",
      "metadata": {
        "id": "LzyquZnR-Kpq",
        "colab_type": "code",
        "outputId": "7eef0b5f-ab7c-4fba-c52e-06598a50fb15",
        "colab": {
          "base_uri": "https://localhost:8080/",
          "height": 390
        }
      },
      "source": [
        "!pip install azure-cognitiveservices-vision-customvision"
      ],
      "execution_count": 0,
      "outputs": [
        {
          "output_type": "stream",
          "text": [
            "Collecting azure-cognitiveservices-vision-customvision\n",
            "\u001b[?25l  Downloading https://files.pythonhosted.org/packages/75/23/1b19ab32108319a4a30ea19559aad8ffbd5cc0b6d136f208fc2f78088715/azure_cognitiveservices_vision_customvision-1.0.0-py2.py3-none-any.whl (109kB)\n",
            "\u001b[K     |████████████████████████████████| 112kB 2.8MB/s \n",
            "\u001b[?25hCollecting azure-common~=1.1 (from azure-cognitiveservices-vision-customvision)\n",
            "  Downloading https://files.pythonhosted.org/packages/da/b3/b848a2154f03ca800a0a0e5c4bffc6d7b3d84b569f990591f5ef3722ec6d/azure_common-1.1.21-py2.py3-none-any.whl\n",
            "Collecting msrest>=0.5.0 (from azure-cognitiveservices-vision-customvision)\n",
            "\u001b[?25l  Downloading https://files.pythonhosted.org/packages/d7/fa/bb4197e25ff01d089dc0584ad8e7d6c2615ae28b9e850afd165927c89576/msrest-0.6.6-py2.py3-none-any.whl (81kB)\n",
            "\u001b[K     |████████████████████████████████| 81kB 29.9MB/s \n",
            "\u001b[?25hRequirement already satisfied: requests-oauthlib>=0.5.0 in /usr/local/lib/python3.6/dist-packages (from msrest>=0.5.0->azure-cognitiveservices-vision-customvision) (1.2.0)\n",
            "Requirement already satisfied: requests~=2.16 in /usr/local/lib/python3.6/dist-packages (from msrest>=0.5.0->azure-cognitiveservices-vision-customvision) (2.21.0)\n",
            "Requirement already satisfied: certifi>=2017.4.17 in /usr/local/lib/python3.6/dist-packages (from msrest>=0.5.0->azure-cognitiveservices-vision-customvision) (2019.3.9)\n",
            "Collecting isodate>=0.6.0 (from msrest>=0.5.0->azure-cognitiveservices-vision-customvision)\n",
            "\u001b[?25l  Downloading https://files.pythonhosted.org/packages/9b/9f/b36f7774ff5ea8e428fdcfc4bb332c39ee5b9362ddd3d40d9516a55221b2/isodate-0.6.0-py2.py3-none-any.whl (45kB)\n",
            "\u001b[K     |████████████████████████████████| 51kB 27.2MB/s \n",
            "\u001b[?25hRequirement already satisfied: oauthlib>=3.0.0 in /usr/local/lib/python3.6/dist-packages (from requests-oauthlib>=0.5.0->msrest>=0.5.0->azure-cognitiveservices-vision-customvision) (3.0.1)\n",
            "Requirement already satisfied: urllib3<1.25,>=1.21.1 in /usr/local/lib/python3.6/dist-packages (from requests~=2.16->msrest>=0.5.0->azure-cognitiveservices-vision-customvision) (1.24.3)\n",
            "Requirement already satisfied: chardet<3.1.0,>=3.0.2 in /usr/local/lib/python3.6/dist-packages (from requests~=2.16->msrest>=0.5.0->azure-cognitiveservices-vision-customvision) (3.0.4)\n",
            "Requirement already satisfied: idna<2.9,>=2.5 in /usr/local/lib/python3.6/dist-packages (from requests~=2.16->msrest>=0.5.0->azure-cognitiveservices-vision-customvision) (2.8)\n",
            "Requirement already satisfied: six in /usr/local/lib/python3.6/dist-packages (from isodate>=0.6.0->msrest>=0.5.0->azure-cognitiveservices-vision-customvision) (1.12.0)\n",
            "Installing collected packages: azure-common, isodate, msrest, azure-cognitiveservices-vision-customvision\n",
            "Successfully installed azure-cognitiveservices-vision-customvision-1.0.0 azure-common-1.1.21 isodate-0.6.0 msrest-0.6.6\n"
          ],
          "name": "stdout"
        }
      ]
    },
    {
      "cell_type": "code",
      "metadata": {
        "id": "SXti3vsj-dXv",
        "colab_type": "code",
        "colab": {}
      },
      "source": [
        "from azure.cognitiveservices.vision.customvision.training import CustomVisionTrainingClient\n",
        "from azure.cognitiveservices.vision.customvision.training.models import ImageFileCreateEntry\n",
        "\n",
        "ENDPOINT = \"https://southcentralus.api.cognitive.microsoft.com/customvision/v3.0/Prediction/8729b181-d35b-4ea8-b104-205955596e9b/classify/iterations/Iteration1/image\"\n",
        "\n",
        "# Replace with a valid key\n",
        "training_key = \"983a4aa1d0104e4ba8fe6c8de32d341d\"\n",
        "prediction_key = \"587bf9e9007e43e3a9033c04f97cf78f\"\n",
        "prediction_resource_id = \"/subscriptions/15dc4e98-a0cf-4466-a045-0dcfcaaf85b1/resourceGroups/ship_identification/providers/Microsoft.CognitiveServices/accounts/ship_identification_prediction\"\n",
        "\n",
        "publish_iteration_name = \"Iteration1\"\n",
        "projectID = '8729b181-d35b-4ea8-b104-205955596e9b'\n",
        "trainer = CustomVisionTrainingClient(training_key, endpoint=ENDPOINT)"
      ],
      "execution_count": 0,
      "outputs": []
    },
    {
      "cell_type": "code",
      "metadata": {
        "id": "_WYfo02qAprh",
        "colab_type": "code",
        "outputId": "5c3a6908-b794-462d-b5ef-7a1feb2318fb",
        "colab": {
          "base_uri": "https://localhost:8080/",
          "height": 299
        }
      },
      "source": [
        "trainer.get_project(projectID)"
      ],
      "execution_count": 0,
      "outputs": [
        {
          "output_type": "error",
          "ename": "CustomVisionErrorException",
          "evalue": "ignored",
          "traceback": [
            "\u001b[0;31m---------------------------------------------------------------------------\u001b[0m",
            "\u001b[0;31mCustomVisionErrorException\u001b[0m                Traceback (most recent call last)",
            "\u001b[0;32m<ipython-input-30-6f3b62ef3b7c>\u001b[0m in \u001b[0;36m<module>\u001b[0;34m()\u001b[0m\n\u001b[0;32m----> 1\u001b[0;31m \u001b[0mtrainer\u001b[0m\u001b[0;34m.\u001b[0m\u001b[0mget_project\u001b[0m\u001b[0;34m(\u001b[0m\u001b[0mprojectID\u001b[0m\u001b[0;34m)\u001b[0m\u001b[0;34m\u001b[0m\u001b[0;34m\u001b[0m\u001b[0m\n\u001b[0m",
            "\u001b[0;32m/usr/local/lib/python3.6/dist-packages/azure/cognitiveservices/vision/customvision/training/custom_vision_training_client.py\u001b[0m in \u001b[0;36mget_project\u001b[0;34m(self, project_id, custom_headers, raw, **operation_config)\u001b[0m\n\u001b[1;32m   1801\u001b[0m \u001b[0;34m\u001b[0m\u001b[0m\n\u001b[1;32m   1802\u001b[0m         \u001b[0;32mif\u001b[0m \u001b[0mresponse\u001b[0m\u001b[0;34m.\u001b[0m\u001b[0mstatus_code\u001b[0m \u001b[0;32mnot\u001b[0m \u001b[0;32min\u001b[0m \u001b[0;34m[\u001b[0m\u001b[0;36m200\u001b[0m\u001b[0;34m]\u001b[0m\u001b[0;34m:\u001b[0m\u001b[0;34m\u001b[0m\u001b[0;34m\u001b[0m\u001b[0m\n\u001b[0;32m-> 1803\u001b[0;31m             \u001b[0;32mraise\u001b[0m \u001b[0mmodels\u001b[0m\u001b[0;34m.\u001b[0m\u001b[0mCustomVisionErrorException\u001b[0m\u001b[0;34m(\u001b[0m\u001b[0mself\u001b[0m\u001b[0;34m.\u001b[0m\u001b[0m_deserialize\u001b[0m\u001b[0;34m,\u001b[0m \u001b[0mresponse\u001b[0m\u001b[0;34m)\u001b[0m\u001b[0;34m\u001b[0m\u001b[0;34m\u001b[0m\u001b[0m\n\u001b[0m\u001b[1;32m   1804\u001b[0m \u001b[0;34m\u001b[0m\u001b[0m\n\u001b[1;32m   1805\u001b[0m         \u001b[0mdeserialized\u001b[0m \u001b[0;34m=\u001b[0m \u001b[0;32mNone\u001b[0m\u001b[0;34m\u001b[0m\u001b[0;34m\u001b[0m\u001b[0m\n",
            "\u001b[0;31mCustomVisionErrorException\u001b[0m: Operation returned an invalid status code 'Resource Not Found'"
          ]
        }
      ]
    },
    {
      "cell_type": "code",
      "metadata": {
        "id": "c7ug4JnM_Auc",
        "colab_type": "code",
        "outputId": "63e98a59-1f49-4e02-c7be-29f8ea9bd661",
        "colab": {
          "base_uri": "https://localhost:8080/",
          "height": 34
        }
      },
      "source": [
        "testDF = pd.read_csv('test.csv')\n",
        "print(testDF.shape)"
      ],
      "execution_count": 0,
      "outputs": [
        {
          "output_type": "stream",
          "text": [
            "(2680, 1)\n"
          ],
          "name": "stdout"
        }
      ]
    },
    {
      "cell_type": "code",
      "metadata": {
        "id": "7xUUPt-X_QZh",
        "colab_type": "code",
        "outputId": "5c6809b4-1755-4d4f-f5f0-81ea2345f84b",
        "colab": {
          "base_uri": "https://localhost:8080/",
          "height": 34
        }
      },
      "source": [
        "len(os.listdir('images'))"
      ],
      "execution_count": 0,
      "outputs": [
        {
          "output_type": "execute_result",
          "data": {
            "text/plain": [
              "8932"
            ]
          },
          "metadata": {
            "tags": []
          },
          "execution_count": 22
        }
      ]
    },
    {
      "cell_type": "code",
      "metadata": {
        "id": "dmRrywuZ-NwL",
        "colab_type": "code",
        "colab": {}
      },
      "source": [
        "from azure.cognitiveservices.vision.customvision.prediction import CustomVisionPredictionClient\n",
        "\n",
        "# Now there is a trained endpoint that can be used to make a prediction\n",
        "predictor = CustomVisionPredictionClient(prediction_key, endpoint=ENDPOINT)\n",
        "predictions = list()"
      ],
      "execution_count": 0,
      "outputs": []
    },
    {
      "cell_type": "code",
      "metadata": {
        "id": "ZNCixslK_MIs",
        "colab_type": "code",
        "outputId": "6bb75a1f-fa4b-4db5-d0a1-c2f7e646374f",
        "colab": {
          "base_uri": "https://localhost:8080/",
          "height": 229
        }
      },
      "source": [
        "for idx, row in testDF.iterrows():\n",
        "  filename = row['image']\n",
        "  with open('images/' + filename, \"rb\") as image_contents:\n",
        "      results = predictor.classify_image(project.id, publish_iteration_name, image_contents.read())\n",
        "\n",
        "      # Display the results.\n",
        "      for prediction in results.predictions:\n",
        "          print (\"\\t\" + prediction.tag_name + \": {0:.2f}%\".format(prediction.probability * 100))\n",
        "      predictions.append(prediction)\n",
        "      break"
      ],
      "execution_count": 0,
      "outputs": [
        {
          "output_type": "error",
          "ename": "NameError",
          "evalue": "ignored",
          "traceback": [
            "\u001b[0;31m---------------------------------------------------------------------------\u001b[0m",
            "\u001b[0;31mNameError\u001b[0m                                 Traceback (most recent call last)",
            "\u001b[0;32m<ipython-input-23-8f064c4157dd>\u001b[0m in \u001b[0;36m<module>\u001b[0;34m()\u001b[0m\n\u001b[1;32m      2\u001b[0m   \u001b[0mfilename\u001b[0m \u001b[0;34m=\u001b[0m \u001b[0mrow\u001b[0m\u001b[0;34m[\u001b[0m\u001b[0;34m'image'\u001b[0m\u001b[0;34m]\u001b[0m\u001b[0;34m\u001b[0m\u001b[0;34m\u001b[0m\u001b[0m\n\u001b[1;32m      3\u001b[0m   \u001b[0;32mwith\u001b[0m \u001b[0mopen\u001b[0m\u001b[0;34m(\u001b[0m\u001b[0;34m'images/'\u001b[0m \u001b[0;34m+\u001b[0m \u001b[0mfilename\u001b[0m\u001b[0;34m,\u001b[0m \u001b[0;34m\"rb\"\u001b[0m\u001b[0;34m)\u001b[0m \u001b[0;32mas\u001b[0m \u001b[0mimage_contents\u001b[0m\u001b[0;34m:\u001b[0m\u001b[0;34m\u001b[0m\u001b[0;34m\u001b[0m\u001b[0m\n\u001b[0;32m----> 4\u001b[0;31m       \u001b[0mresults\u001b[0m \u001b[0;34m=\u001b[0m \u001b[0mpredictor\u001b[0m\u001b[0;34m.\u001b[0m\u001b[0mclassify_image\u001b[0m\u001b[0;34m(\u001b[0m\u001b[0mproject\u001b[0m\u001b[0;34m.\u001b[0m\u001b[0mid\u001b[0m\u001b[0;34m,\u001b[0m \u001b[0mpublish_iteration_name\u001b[0m\u001b[0;34m,\u001b[0m \u001b[0mimage_contents\u001b[0m\u001b[0;34m.\u001b[0m\u001b[0mread\u001b[0m\u001b[0;34m(\u001b[0m\u001b[0;34m)\u001b[0m\u001b[0;34m)\u001b[0m\u001b[0;34m\u001b[0m\u001b[0;34m\u001b[0m\u001b[0m\n\u001b[0m\u001b[1;32m      5\u001b[0m \u001b[0;34m\u001b[0m\u001b[0m\n\u001b[1;32m      6\u001b[0m       \u001b[0;31m# Display the results.\u001b[0m\u001b[0;34m\u001b[0m\u001b[0;34m\u001b[0m\u001b[0;34m\u001b[0m\u001b[0m\n",
            "\u001b[0;31mNameError\u001b[0m: name 'project' is not defined"
          ]
        }
      ]
    },
    {
      "cell_type": "code",
      "metadata": {
        "id": "QZ6GoYxj6I4e",
        "colab_type": "code",
        "outputId": "28a5d157-d60d-447c-96f2-78d6272b2eee",
        "colab": {
          "base_uri": "https://localhost:8080/",
          "height": 77
        }
      },
      "source": [
        "trainDF[trainDF['image'] == '2870005.jpg']"
      ],
      "execution_count": 0,
      "outputs": [
        {
          "output_type": "execute_result",
          "data": {
            "text/html": [
              "<div>\n",
              "<style scoped>\n",
              "    .dataframe tbody tr th:only-of-type {\n",
              "        vertical-align: middle;\n",
              "    }\n",
              "\n",
              "    .dataframe tbody tr th {\n",
              "        vertical-align: top;\n",
              "    }\n",
              "\n",
              "    .dataframe thead th {\n",
              "        text-align: right;\n",
              "    }\n",
              "</style>\n",
              "<table border=\"1\" class=\"dataframe\">\n",
              "  <thead>\n",
              "    <tr style=\"text-align: right;\">\n",
              "      <th></th>\n",
              "      <th>image</th>\n",
              "      <th>category</th>\n",
              "    </tr>\n",
              "  </thead>\n",
              "  <tbody>\n",
              "    <tr>\n",
              "      <th>3429</th>\n",
              "      <td>2870005.jpg</td>\n",
              "      <td>1</td>\n",
              "    </tr>\n",
              "  </tbody>\n",
              "</table>\n",
              "</div>"
            ],
            "text/plain": [
              "            image  category\n",
              "3429  2870005.jpg         1"
            ]
          },
          "metadata": {
            "tags": []
          },
          "execution_count": 14
        }
      ]
    },
    {
      "cell_type": "code",
      "metadata": {
        "id": "YuG3IZ3aUZux",
        "colab_type": "code",
        "colab": {}
      },
      "source": [
        "image_size = 160 # All images will be resized to 160x160\n",
        "batch_size = 32\n",
        "train_dir = 'train'\n",
        "validation_dir = 'valid'\n",
        "\n",
        "\n",
        "# Rescale all images by 1./255 and apply image augmentation\n",
        "train_datagen = keras.preprocessing.image.ImageDataGenerator(\n",
        "                rescale=1./255)\n",
        "\n",
        "validation_datagen = keras.preprocessing.image.ImageDataGenerator(rescale=1./255)"
      ],
      "execution_count": 0,
      "outputs": []
    },
    {
      "cell_type": "code",
      "metadata": {
        "id": "CV-SA8wMUi6m",
        "colab_type": "code",
        "outputId": "f023b43a-2aab-4632-e572-0bbda47861c1",
        "colab": {
          "base_uri": "https://localhost:8080/",
          "height": 50
        }
      },
      "source": [
        "# Flow training images in batches of 20 using train_datagen generator\n",
        "train_generator = train_datagen.flow_from_directory(\n",
        "                train_dir,  # Source directory for the training images\n",
        "                target_size=(image_size, image_size),\n",
        "                batch_size=batch_size, seed = 999,\n",
        "                # Since we use binary_crossentropy loss, we need binary labels\n",
        "                class_mode='categorical')\n",
        "\n",
        "# Flow validation images in batches of 20 using test_datagen generator\n",
        "validation_generator = validation_datagen.flow_from_directory(\n",
        "                validation_dir, # Source directory for the validation images\n",
        "                target_size=(image_size, image_size),\n",
        "                batch_size=batch_size, seed = 999,\n",
        "                class_mode='categorical')"
      ],
      "execution_count": 0,
      "outputs": [
        {
          "output_type": "stream",
          "text": [
            "Found 4999 images belonging to 5 classes.\n",
            "Found 1253 images belonging to 5 classes.\n"
          ],
          "name": "stdout"
        }
      ]
    },
    {
      "cell_type": "code",
      "metadata": {
        "id": "HiHAi_BYUlz2",
        "colab_type": "code",
        "outputId": "2b1e8097-421d-4ecb-ed12-1f09ccf6dd77",
        "colab": {
          "base_uri": "https://localhost:8080/",
          "height": 121
        }
      },
      "source": [
        "IMG_SHAPE = (image_size, image_size, 3)\n",
        "\n",
        "# Create the base model from the pre-trained model MobileNet V2\n",
        "base_model = tf.keras.applications.MobileNetV2(input_shape=IMG_SHAPE,\n",
        "                                               include_top=False,\n",
        "                                               weights='imagenet')"
      ],
      "execution_count": 0,
      "outputs": [
        {
          "output_type": "stream",
          "text": [
            "WARNING:tensorflow:From /usr/local/lib/python3.6/dist-packages/tensorflow/python/ops/resource_variable_ops.py:435: colocate_with (from tensorflow.python.framework.ops) is deprecated and will be removed in a future version.\n",
            "Instructions for updating:\n",
            "Colocations handled automatically by placer.\n",
            "Downloading data from https://github.com/JonathanCMitchell/mobilenet_v2_keras/releases/download/v1.1/mobilenet_v2_weights_tf_dim_ordering_tf_kernels_1.0_160_no_top.h5\n",
            "9412608/9406464 [==============================] - 2s 0us/step\n"
          ],
          "name": "stdout"
        }
      ]
    },
    {
      "cell_type": "code",
      "metadata": {
        "id": "eNALOP9UUpj6",
        "colab_type": "code",
        "colab": {}
      },
      "source": [
        "base_model.trainable = False"
      ],
      "execution_count": 0,
      "outputs": []
    },
    {
      "cell_type": "code",
      "metadata": {
        "id": "MvHbkQSmUvlM",
        "colab_type": "code",
        "outputId": "aaffeb01-6eac-4a8b-ecae-38f32e7cbafa",
        "colab": {
          "base_uri": "https://localhost:8080/",
          "height": 5510
        }
      },
      "source": [
        "# Let's take a look at the base model architecture\n",
        "base_model.summary()"
      ],
      "execution_count": 0,
      "outputs": [
        {
          "output_type": "stream",
          "text": [
            "__________________________________________________________________________________________________\n",
            "Layer (type)                    Output Shape         Param #     Connected to                     \n",
            "==================================================================================================\n",
            "input_1 (InputLayer)            (None, 160, 160, 3)  0                                            \n",
            "__________________________________________________________________________________________________\n",
            "Conv1_pad (ZeroPadding2D)       (None, 161, 161, 3)  0           input_1[0][0]                    \n",
            "__________________________________________________________________________________________________\n",
            "Conv1 (Conv2D)                  (None, 80, 80, 32)   864         Conv1_pad[0][0]                  \n",
            "__________________________________________________________________________________________________\n",
            "bn_Conv1 (BatchNormalizationV1) (None, 80, 80, 32)   128         Conv1[0][0]                      \n",
            "__________________________________________________________________________________________________\n",
            "Conv1_relu (ReLU)               (None, 80, 80, 32)   0           bn_Conv1[0][0]                   \n",
            "__________________________________________________________________________________________________\n",
            "expanded_conv_depthwise (Depthw (None, 80, 80, 32)   288         Conv1_relu[0][0]                 \n",
            "__________________________________________________________________________________________________\n",
            "expanded_conv_depthwise_BN (Bat (None, 80, 80, 32)   128         expanded_conv_depthwise[0][0]    \n",
            "__________________________________________________________________________________________________\n",
            "expanded_conv_depthwise_relu (R (None, 80, 80, 32)   0           expanded_conv_depthwise_BN[0][0] \n",
            "__________________________________________________________________________________________________\n",
            "expanded_conv_project (Conv2D)  (None, 80, 80, 16)   512         expanded_conv_depthwise_relu[0][0\n",
            "__________________________________________________________________________________________________\n",
            "expanded_conv_project_BN (Batch (None, 80, 80, 16)   64          expanded_conv_project[0][0]      \n",
            "__________________________________________________________________________________________________\n",
            "block_1_expand (Conv2D)         (None, 80, 80, 96)   1536        expanded_conv_project_BN[0][0]   \n",
            "__________________________________________________________________________________________________\n",
            "block_1_expand_BN (BatchNormali (None, 80, 80, 96)   384         block_1_expand[0][0]             \n",
            "__________________________________________________________________________________________________\n",
            "block_1_expand_relu (ReLU)      (None, 80, 80, 96)   0           block_1_expand_BN[0][0]          \n",
            "__________________________________________________________________________________________________\n",
            "block_1_pad (ZeroPadding2D)     (None, 81, 81, 96)   0           block_1_expand_relu[0][0]        \n",
            "__________________________________________________________________________________________________\n",
            "block_1_depthwise (DepthwiseCon (None, 40, 40, 96)   864         block_1_pad[0][0]                \n",
            "__________________________________________________________________________________________________\n",
            "block_1_depthwise_BN (BatchNorm (None, 40, 40, 96)   384         block_1_depthwise[0][0]          \n",
            "__________________________________________________________________________________________________\n",
            "block_1_depthwise_relu (ReLU)   (None, 40, 40, 96)   0           block_1_depthwise_BN[0][0]       \n",
            "__________________________________________________________________________________________________\n",
            "block_1_project (Conv2D)        (None, 40, 40, 24)   2304        block_1_depthwise_relu[0][0]     \n",
            "__________________________________________________________________________________________________\n",
            "block_1_project_BN (BatchNormal (None, 40, 40, 24)   96          block_1_project[0][0]            \n",
            "__________________________________________________________________________________________________\n",
            "block_2_expand (Conv2D)         (None, 40, 40, 144)  3456        block_1_project_BN[0][0]         \n",
            "__________________________________________________________________________________________________\n",
            "block_2_expand_BN (BatchNormali (None, 40, 40, 144)  576         block_2_expand[0][0]             \n",
            "__________________________________________________________________________________________________\n",
            "block_2_expand_relu (ReLU)      (None, 40, 40, 144)  0           block_2_expand_BN[0][0]          \n",
            "__________________________________________________________________________________________________\n",
            "block_2_depthwise (DepthwiseCon (None, 40, 40, 144)  1296        block_2_expand_relu[0][0]        \n",
            "__________________________________________________________________________________________________\n",
            "block_2_depthwise_BN (BatchNorm (None, 40, 40, 144)  576         block_2_depthwise[0][0]          \n",
            "__________________________________________________________________________________________________\n",
            "block_2_depthwise_relu (ReLU)   (None, 40, 40, 144)  0           block_2_depthwise_BN[0][0]       \n",
            "__________________________________________________________________________________________________\n",
            "block_2_project (Conv2D)        (None, 40, 40, 24)   3456        block_2_depthwise_relu[0][0]     \n",
            "__________________________________________________________________________________________________\n",
            "block_2_project_BN (BatchNormal (None, 40, 40, 24)   96          block_2_project[0][0]            \n",
            "__________________________________________________________________________________________________\n",
            "block_2_add (Add)               (None, 40, 40, 24)   0           block_1_project_BN[0][0]         \n",
            "                                                                 block_2_project_BN[0][0]         \n",
            "__________________________________________________________________________________________________\n",
            "block_3_expand (Conv2D)         (None, 40, 40, 144)  3456        block_2_add[0][0]                \n",
            "__________________________________________________________________________________________________\n",
            "block_3_expand_BN (BatchNormali (None, 40, 40, 144)  576         block_3_expand[0][0]             \n",
            "__________________________________________________________________________________________________\n",
            "block_3_expand_relu (ReLU)      (None, 40, 40, 144)  0           block_3_expand_BN[0][0]          \n",
            "__________________________________________________________________________________________________\n",
            "block_3_pad (ZeroPadding2D)     (None, 41, 41, 144)  0           block_3_expand_relu[0][0]        \n",
            "__________________________________________________________________________________________________\n",
            "block_3_depthwise (DepthwiseCon (None, 20, 20, 144)  1296        block_3_pad[0][0]                \n",
            "__________________________________________________________________________________________________\n",
            "block_3_depthwise_BN (BatchNorm (None, 20, 20, 144)  576         block_3_depthwise[0][0]          \n",
            "__________________________________________________________________________________________________\n",
            "block_3_depthwise_relu (ReLU)   (None, 20, 20, 144)  0           block_3_depthwise_BN[0][0]       \n",
            "__________________________________________________________________________________________________\n",
            "block_3_project (Conv2D)        (None, 20, 20, 32)   4608        block_3_depthwise_relu[0][0]     \n",
            "__________________________________________________________________________________________________\n",
            "block_3_project_BN (BatchNormal (None, 20, 20, 32)   128         block_3_project[0][0]            \n",
            "__________________________________________________________________________________________________\n",
            "block_4_expand (Conv2D)         (None, 20, 20, 192)  6144        block_3_project_BN[0][0]         \n",
            "__________________________________________________________________________________________________\n",
            "block_4_expand_BN (BatchNormali (None, 20, 20, 192)  768         block_4_expand[0][0]             \n",
            "__________________________________________________________________________________________________\n",
            "block_4_expand_relu (ReLU)      (None, 20, 20, 192)  0           block_4_expand_BN[0][0]          \n",
            "__________________________________________________________________________________________________\n",
            "block_4_depthwise (DepthwiseCon (None, 20, 20, 192)  1728        block_4_expand_relu[0][0]        \n",
            "__________________________________________________________________________________________________\n",
            "block_4_depthwise_BN (BatchNorm (None, 20, 20, 192)  768         block_4_depthwise[0][0]          \n",
            "__________________________________________________________________________________________________\n",
            "block_4_depthwise_relu (ReLU)   (None, 20, 20, 192)  0           block_4_depthwise_BN[0][0]       \n",
            "__________________________________________________________________________________________________\n",
            "block_4_project (Conv2D)        (None, 20, 20, 32)   6144        block_4_depthwise_relu[0][0]     \n",
            "__________________________________________________________________________________________________\n",
            "block_4_project_BN (BatchNormal (None, 20, 20, 32)   128         block_4_project[0][0]            \n",
            "__________________________________________________________________________________________________\n",
            "block_4_add (Add)               (None, 20, 20, 32)   0           block_3_project_BN[0][0]         \n",
            "                                                                 block_4_project_BN[0][0]         \n",
            "__________________________________________________________________________________________________\n",
            "block_5_expand (Conv2D)         (None, 20, 20, 192)  6144        block_4_add[0][0]                \n",
            "__________________________________________________________________________________________________\n",
            "block_5_expand_BN (BatchNormali (None, 20, 20, 192)  768         block_5_expand[0][0]             \n",
            "__________________________________________________________________________________________________\n",
            "block_5_expand_relu (ReLU)      (None, 20, 20, 192)  0           block_5_expand_BN[0][0]          \n",
            "__________________________________________________________________________________________________\n",
            "block_5_depthwise (DepthwiseCon (None, 20, 20, 192)  1728        block_5_expand_relu[0][0]        \n",
            "__________________________________________________________________________________________________\n",
            "block_5_depthwise_BN (BatchNorm (None, 20, 20, 192)  768         block_5_depthwise[0][0]          \n",
            "__________________________________________________________________________________________________\n",
            "block_5_depthwise_relu (ReLU)   (None, 20, 20, 192)  0           block_5_depthwise_BN[0][0]       \n",
            "__________________________________________________________________________________________________\n",
            "block_5_project (Conv2D)        (None, 20, 20, 32)   6144        block_5_depthwise_relu[0][0]     \n",
            "__________________________________________________________________________________________________\n",
            "block_5_project_BN (BatchNormal (None, 20, 20, 32)   128         block_5_project[0][0]            \n",
            "__________________________________________________________________________________________________\n",
            "block_5_add (Add)               (None, 20, 20, 32)   0           block_4_add[0][0]                \n",
            "                                                                 block_5_project_BN[0][0]         \n",
            "__________________________________________________________________________________________________\n",
            "block_6_expand (Conv2D)         (None, 20, 20, 192)  6144        block_5_add[0][0]                \n",
            "__________________________________________________________________________________________________\n",
            "block_6_expand_BN (BatchNormali (None, 20, 20, 192)  768         block_6_expand[0][0]             \n",
            "__________________________________________________________________________________________________\n",
            "block_6_expand_relu (ReLU)      (None, 20, 20, 192)  0           block_6_expand_BN[0][0]          \n",
            "__________________________________________________________________________________________________\n",
            "block_6_pad (ZeroPadding2D)     (None, 21, 21, 192)  0           block_6_expand_relu[0][0]        \n",
            "__________________________________________________________________________________________________\n",
            "block_6_depthwise (DepthwiseCon (None, 10, 10, 192)  1728        block_6_pad[0][0]                \n",
            "__________________________________________________________________________________________________\n",
            "block_6_depthwise_BN (BatchNorm (None, 10, 10, 192)  768         block_6_depthwise[0][0]          \n",
            "__________________________________________________________________________________________________\n",
            "block_6_depthwise_relu (ReLU)   (None, 10, 10, 192)  0           block_6_depthwise_BN[0][0]       \n",
            "__________________________________________________________________________________________________\n",
            "block_6_project (Conv2D)        (None, 10, 10, 64)   12288       block_6_depthwise_relu[0][0]     \n",
            "__________________________________________________________________________________________________\n",
            "block_6_project_BN (BatchNormal (None, 10, 10, 64)   256         block_6_project[0][0]            \n",
            "__________________________________________________________________________________________________\n",
            "block_7_expand (Conv2D)         (None, 10, 10, 384)  24576       block_6_project_BN[0][0]         \n",
            "__________________________________________________________________________________________________\n",
            "block_7_expand_BN (BatchNormali (None, 10, 10, 384)  1536        block_7_expand[0][0]             \n",
            "__________________________________________________________________________________________________\n",
            "block_7_expand_relu (ReLU)      (None, 10, 10, 384)  0           block_7_expand_BN[0][0]          \n",
            "__________________________________________________________________________________________________\n",
            "block_7_depthwise (DepthwiseCon (None, 10, 10, 384)  3456        block_7_expand_relu[0][0]        \n",
            "__________________________________________________________________________________________________\n",
            "block_7_depthwise_BN (BatchNorm (None, 10, 10, 384)  1536        block_7_depthwise[0][0]          \n",
            "__________________________________________________________________________________________________\n",
            "block_7_depthwise_relu (ReLU)   (None, 10, 10, 384)  0           block_7_depthwise_BN[0][0]       \n",
            "__________________________________________________________________________________________________\n",
            "block_7_project (Conv2D)        (None, 10, 10, 64)   24576       block_7_depthwise_relu[0][0]     \n",
            "__________________________________________________________________________________________________\n",
            "block_7_project_BN (BatchNormal (None, 10, 10, 64)   256         block_7_project[0][0]            \n",
            "__________________________________________________________________________________________________\n",
            "block_7_add (Add)               (None, 10, 10, 64)   0           block_6_project_BN[0][0]         \n",
            "                                                                 block_7_project_BN[0][0]         \n",
            "__________________________________________________________________________________________________\n",
            "block_8_expand (Conv2D)         (None, 10, 10, 384)  24576       block_7_add[0][0]                \n",
            "__________________________________________________________________________________________________\n",
            "block_8_expand_BN (BatchNormali (None, 10, 10, 384)  1536        block_8_expand[0][0]             \n",
            "__________________________________________________________________________________________________\n",
            "block_8_expand_relu (ReLU)      (None, 10, 10, 384)  0           block_8_expand_BN[0][0]          \n",
            "__________________________________________________________________________________________________\n",
            "block_8_depthwise (DepthwiseCon (None, 10, 10, 384)  3456        block_8_expand_relu[0][0]        \n",
            "__________________________________________________________________________________________________\n",
            "block_8_depthwise_BN (BatchNorm (None, 10, 10, 384)  1536        block_8_depthwise[0][0]          \n",
            "__________________________________________________________________________________________________\n",
            "block_8_depthwise_relu (ReLU)   (None, 10, 10, 384)  0           block_8_depthwise_BN[0][0]       \n",
            "__________________________________________________________________________________________________\n",
            "block_8_project (Conv2D)        (None, 10, 10, 64)   24576       block_8_depthwise_relu[0][0]     \n",
            "__________________________________________________________________________________________________\n",
            "block_8_project_BN (BatchNormal (None, 10, 10, 64)   256         block_8_project[0][0]            \n",
            "__________________________________________________________________________________________________\n",
            "block_8_add (Add)               (None, 10, 10, 64)   0           block_7_add[0][0]                \n",
            "                                                                 block_8_project_BN[0][0]         \n",
            "__________________________________________________________________________________________________\n",
            "block_9_expand (Conv2D)         (None, 10, 10, 384)  24576       block_8_add[0][0]                \n",
            "__________________________________________________________________________________________________\n",
            "block_9_expand_BN (BatchNormali (None, 10, 10, 384)  1536        block_9_expand[0][0]             \n",
            "__________________________________________________________________________________________________\n",
            "block_9_expand_relu (ReLU)      (None, 10, 10, 384)  0           block_9_expand_BN[0][0]          \n",
            "__________________________________________________________________________________________________\n",
            "block_9_depthwise (DepthwiseCon (None, 10, 10, 384)  3456        block_9_expand_relu[0][0]        \n",
            "__________________________________________________________________________________________________\n",
            "block_9_depthwise_BN (BatchNorm (None, 10, 10, 384)  1536        block_9_depthwise[0][0]          \n",
            "__________________________________________________________________________________________________\n",
            "block_9_depthwise_relu (ReLU)   (None, 10, 10, 384)  0           block_9_depthwise_BN[0][0]       \n",
            "__________________________________________________________________________________________________\n",
            "block_9_project (Conv2D)        (None, 10, 10, 64)   24576       block_9_depthwise_relu[0][0]     \n",
            "__________________________________________________________________________________________________\n",
            "block_9_project_BN (BatchNormal (None, 10, 10, 64)   256         block_9_project[0][0]            \n",
            "__________________________________________________________________________________________________\n",
            "block_9_add (Add)               (None, 10, 10, 64)   0           block_8_add[0][0]                \n",
            "                                                                 block_9_project_BN[0][0]         \n",
            "__________________________________________________________________________________________________\n",
            "block_10_expand (Conv2D)        (None, 10, 10, 384)  24576       block_9_add[0][0]                \n",
            "__________________________________________________________________________________________________\n",
            "block_10_expand_BN (BatchNormal (None, 10, 10, 384)  1536        block_10_expand[0][0]            \n",
            "__________________________________________________________________________________________________\n",
            "block_10_expand_relu (ReLU)     (None, 10, 10, 384)  0           block_10_expand_BN[0][0]         \n",
            "__________________________________________________________________________________________________\n",
            "block_10_depthwise (DepthwiseCo (None, 10, 10, 384)  3456        block_10_expand_relu[0][0]       \n",
            "__________________________________________________________________________________________________\n",
            "block_10_depthwise_BN (BatchNor (None, 10, 10, 384)  1536        block_10_depthwise[0][0]         \n",
            "__________________________________________________________________________________________________\n",
            "block_10_depthwise_relu (ReLU)  (None, 10, 10, 384)  0           block_10_depthwise_BN[0][0]      \n",
            "__________________________________________________________________________________________________\n",
            "block_10_project (Conv2D)       (None, 10, 10, 96)   36864       block_10_depthwise_relu[0][0]    \n",
            "__________________________________________________________________________________________________\n",
            "block_10_project_BN (BatchNorma (None, 10, 10, 96)   384         block_10_project[0][0]           \n",
            "__________________________________________________________________________________________________\n",
            "block_11_expand (Conv2D)        (None, 10, 10, 576)  55296       block_10_project_BN[0][0]        \n",
            "__________________________________________________________________________________________________\n",
            "block_11_expand_BN (BatchNormal (None, 10, 10, 576)  2304        block_11_expand[0][0]            \n",
            "__________________________________________________________________________________________________\n",
            "block_11_expand_relu (ReLU)     (None, 10, 10, 576)  0           block_11_expand_BN[0][0]         \n",
            "__________________________________________________________________________________________________\n",
            "block_11_depthwise (DepthwiseCo (None, 10, 10, 576)  5184        block_11_expand_relu[0][0]       \n",
            "__________________________________________________________________________________________________\n",
            "block_11_depthwise_BN (BatchNor (None, 10, 10, 576)  2304        block_11_depthwise[0][0]         \n",
            "__________________________________________________________________________________________________\n",
            "block_11_depthwise_relu (ReLU)  (None, 10, 10, 576)  0           block_11_depthwise_BN[0][0]      \n",
            "__________________________________________________________________________________________________\n",
            "block_11_project (Conv2D)       (None, 10, 10, 96)   55296       block_11_depthwise_relu[0][0]    \n",
            "__________________________________________________________________________________________________\n",
            "block_11_project_BN (BatchNorma (None, 10, 10, 96)   384         block_11_project[0][0]           \n",
            "__________________________________________________________________________________________________\n",
            "block_11_add (Add)              (None, 10, 10, 96)   0           block_10_project_BN[0][0]        \n",
            "                                                                 block_11_project_BN[0][0]        \n",
            "__________________________________________________________________________________________________\n",
            "block_12_expand (Conv2D)        (None, 10, 10, 576)  55296       block_11_add[0][0]               \n",
            "__________________________________________________________________________________________________\n",
            "block_12_expand_BN (BatchNormal (None, 10, 10, 576)  2304        block_12_expand[0][0]            \n",
            "__________________________________________________________________________________________________\n",
            "block_12_expand_relu (ReLU)     (None, 10, 10, 576)  0           block_12_expand_BN[0][0]         \n",
            "__________________________________________________________________________________________________\n",
            "block_12_depthwise (DepthwiseCo (None, 10, 10, 576)  5184        block_12_expand_relu[0][0]       \n",
            "__________________________________________________________________________________________________\n",
            "block_12_depthwise_BN (BatchNor (None, 10, 10, 576)  2304        block_12_depthwise[0][0]         \n",
            "__________________________________________________________________________________________________\n",
            "block_12_depthwise_relu (ReLU)  (None, 10, 10, 576)  0           block_12_depthwise_BN[0][0]      \n",
            "__________________________________________________________________________________________________\n",
            "block_12_project (Conv2D)       (None, 10, 10, 96)   55296       block_12_depthwise_relu[0][0]    \n",
            "__________________________________________________________________________________________________\n",
            "block_12_project_BN (BatchNorma (None, 10, 10, 96)   384         block_12_project[0][0]           \n",
            "__________________________________________________________________________________________________\n",
            "block_12_add (Add)              (None, 10, 10, 96)   0           block_11_add[0][0]               \n",
            "                                                                 block_12_project_BN[0][0]        \n",
            "__________________________________________________________________________________________________\n",
            "block_13_expand (Conv2D)        (None, 10, 10, 576)  55296       block_12_add[0][0]               \n",
            "__________________________________________________________________________________________________\n",
            "block_13_expand_BN (BatchNormal (None, 10, 10, 576)  2304        block_13_expand[0][0]            \n",
            "__________________________________________________________________________________________________\n",
            "block_13_expand_relu (ReLU)     (None, 10, 10, 576)  0           block_13_expand_BN[0][0]         \n",
            "__________________________________________________________________________________________________\n",
            "block_13_pad (ZeroPadding2D)    (None, 11, 11, 576)  0           block_13_expand_relu[0][0]       \n",
            "__________________________________________________________________________________________________\n",
            "block_13_depthwise (DepthwiseCo (None, 5, 5, 576)    5184        block_13_pad[0][0]               \n",
            "__________________________________________________________________________________________________\n",
            "block_13_depthwise_BN (BatchNor (None, 5, 5, 576)    2304        block_13_depthwise[0][0]         \n",
            "__________________________________________________________________________________________________\n",
            "block_13_depthwise_relu (ReLU)  (None, 5, 5, 576)    0           block_13_depthwise_BN[0][0]      \n",
            "__________________________________________________________________________________________________\n",
            "block_13_project (Conv2D)       (None, 5, 5, 160)    92160       block_13_depthwise_relu[0][0]    \n",
            "__________________________________________________________________________________________________\n",
            "block_13_project_BN (BatchNorma (None, 5, 5, 160)    640         block_13_project[0][0]           \n",
            "__________________________________________________________________________________________________\n",
            "block_14_expand (Conv2D)        (None, 5, 5, 960)    153600      block_13_project_BN[0][0]        \n",
            "__________________________________________________________________________________________________\n",
            "block_14_expand_BN (BatchNormal (None, 5, 5, 960)    3840        block_14_expand[0][0]            \n",
            "__________________________________________________________________________________________________\n",
            "block_14_expand_relu (ReLU)     (None, 5, 5, 960)    0           block_14_expand_BN[0][0]         \n",
            "__________________________________________________________________________________________________\n",
            "block_14_depthwise (DepthwiseCo (None, 5, 5, 960)    8640        block_14_expand_relu[0][0]       \n",
            "__________________________________________________________________________________________________\n",
            "block_14_depthwise_BN (BatchNor (None, 5, 5, 960)    3840        block_14_depthwise[0][0]         \n",
            "__________________________________________________________________________________________________\n",
            "block_14_depthwise_relu (ReLU)  (None, 5, 5, 960)    0           block_14_depthwise_BN[0][0]      \n",
            "__________________________________________________________________________________________________\n",
            "block_14_project (Conv2D)       (None, 5, 5, 160)    153600      block_14_depthwise_relu[0][0]    \n",
            "__________________________________________________________________________________________________\n",
            "block_14_project_BN (BatchNorma (None, 5, 5, 160)    640         block_14_project[0][0]           \n",
            "__________________________________________________________________________________________________\n",
            "block_14_add (Add)              (None, 5, 5, 160)    0           block_13_project_BN[0][0]        \n",
            "                                                                 block_14_project_BN[0][0]        \n",
            "__________________________________________________________________________________________________\n",
            "block_15_expand (Conv2D)        (None, 5, 5, 960)    153600      block_14_add[0][0]               \n",
            "__________________________________________________________________________________________________\n",
            "block_15_expand_BN (BatchNormal (None, 5, 5, 960)    3840        block_15_expand[0][0]            \n",
            "__________________________________________________________________________________________________\n",
            "block_15_expand_relu (ReLU)     (None, 5, 5, 960)    0           block_15_expand_BN[0][0]         \n",
            "__________________________________________________________________________________________________\n",
            "block_15_depthwise (DepthwiseCo (None, 5, 5, 960)    8640        block_15_expand_relu[0][0]       \n",
            "__________________________________________________________________________________________________\n",
            "block_15_depthwise_BN (BatchNor (None, 5, 5, 960)    3840        block_15_depthwise[0][0]         \n",
            "__________________________________________________________________________________________________\n",
            "block_15_depthwise_relu (ReLU)  (None, 5, 5, 960)    0           block_15_depthwise_BN[0][0]      \n",
            "__________________________________________________________________________________________________\n",
            "block_15_project (Conv2D)       (None, 5, 5, 160)    153600      block_15_depthwise_relu[0][0]    \n",
            "__________________________________________________________________________________________________\n",
            "block_15_project_BN (BatchNorma (None, 5, 5, 160)    640         block_15_project[0][0]           \n",
            "__________________________________________________________________________________________________\n",
            "block_15_add (Add)              (None, 5, 5, 160)    0           block_14_add[0][0]               \n",
            "                                                                 block_15_project_BN[0][0]        \n",
            "__________________________________________________________________________________________________\n",
            "block_16_expand (Conv2D)        (None, 5, 5, 960)    153600      block_15_add[0][0]               \n",
            "__________________________________________________________________________________________________\n",
            "block_16_expand_BN (BatchNormal (None, 5, 5, 960)    3840        block_16_expand[0][0]            \n",
            "__________________________________________________________________________________________________\n",
            "block_16_expand_relu (ReLU)     (None, 5, 5, 960)    0           block_16_expand_BN[0][0]         \n",
            "__________________________________________________________________________________________________\n",
            "block_16_depthwise (DepthwiseCo (None, 5, 5, 960)    8640        block_16_expand_relu[0][0]       \n",
            "__________________________________________________________________________________________________\n",
            "block_16_depthwise_BN (BatchNor (None, 5, 5, 960)    3840        block_16_depthwise[0][0]         \n",
            "__________________________________________________________________________________________________\n",
            "block_16_depthwise_relu (ReLU)  (None, 5, 5, 960)    0           block_16_depthwise_BN[0][0]      \n",
            "__________________________________________________________________________________________________\n",
            "block_16_project (Conv2D)       (None, 5, 5, 320)    307200      block_16_depthwise_relu[0][0]    \n",
            "__________________________________________________________________________________________________\n",
            "block_16_project_BN (BatchNorma (None, 5, 5, 320)    1280        block_16_project[0][0]           \n",
            "__________________________________________________________________________________________________\n",
            "Conv_1 (Conv2D)                 (None, 5, 5, 1280)   409600      block_16_project_BN[0][0]        \n",
            "__________________________________________________________________________________________________\n",
            "Conv_1_bn (BatchNormalizationV1 (None, 5, 5, 1280)   5120        Conv_1[0][0]                     \n",
            "__________________________________________________________________________________________________\n",
            "out_relu (ReLU)                 (None, 5, 5, 1280)   0           Conv_1_bn[0][0]                  \n",
            "==================================================================================================\n",
            "Total params: 2,257,984\n",
            "Trainable params: 0\n",
            "Non-trainable params: 2,257,984\n",
            "__________________________________________________________________________________________________\n"
          ],
          "name": "stdout"
        }
      ]
    },
    {
      "cell_type": "code",
      "metadata": {
        "id": "cqtQNLKyUx7m",
        "colab_type": "code",
        "colab": {}
      },
      "source": [
        "model = tf.keras.Sequential([\n",
        "  base_model,\n",
        "  keras.layers.GlobalAveragePooling2D(),\n",
        "  keras.layers.Dense(5, activation='relu')\n",
        "])"
      ],
      "execution_count": 0,
      "outputs": []
    },
    {
      "cell_type": "code",
      "metadata": {
        "id": "ujyil_IGU6Pa",
        "colab_type": "code",
        "outputId": "1ec5ede5-dacf-40cd-c102-815ef7d6013c",
        "colab": {
          "base_uri": "https://localhost:8080/",
          "height": 235
        }
      },
      "source": [
        "model.compile(optimizer=tf.keras.optimizers.Adam(lr = 0.0001),\n",
        "              loss='categorical_crossentropy',\n",
        "              metrics=['categorical_accuracy'])\n",
        "\n",
        "model.summary()"
      ],
      "execution_count": 0,
      "outputs": [
        {
          "output_type": "stream",
          "text": [
            "_________________________________________________________________\n",
            "Layer (type)                 Output Shape              Param #   \n",
            "=================================================================\n",
            "mobilenetv2_1.00_160 (Model) (None, 5, 5, 1280)        2257984   \n",
            "_________________________________________________________________\n",
            "global_average_pooling2d (Gl (None, 1280)              0         \n",
            "_________________________________________________________________\n",
            "dense (Dense)                (None, 5)                 6405      \n",
            "=================================================================\n",
            "Total params: 2,264,389\n",
            "Trainable params: 6,405\n",
            "Non-trainable params: 2,257,984\n",
            "_________________________________________________________________\n"
          ],
          "name": "stdout"
        }
      ]
    },
    {
      "cell_type": "code",
      "metadata": {
        "id": "WWqymwEnVBi3",
        "colab_type": "code",
        "outputId": "dd44da30-49f8-4b75-fb7c-1ba290647866",
        "colab": {
          "base_uri": "https://localhost:8080/",
          "height": 34
        }
      },
      "source": [
        "len(model.trainable_variables)"
      ],
      "execution_count": 0,
      "outputs": [
        {
          "output_type": "execute_result",
          "data": {
            "text/plain": [
              "2"
            ]
          },
          "metadata": {
            "tags": []
          },
          "execution_count": 13
        }
      ]
    },
    {
      "cell_type": "code",
      "metadata": {
        "id": "KfOH9gIbVFyR",
        "colab_type": "code",
        "colab": {}
      },
      "source": [
        "epochs = 50\n",
        "steps_per_epoch = train_generator.n // batch_size\n",
        "validation_steps = validation_generator.n // batch_size"
      ],
      "execution_count": 0,
      "outputs": []
    },
    {
      "cell_type": "code",
      "metadata": {
        "id": "kb-20nx1VJma",
        "colab_type": "code",
        "colab": {}
      },
      "source": [
        "checkpoint_path = PATH + \"training_1/cp_v3.ckpt\"\n",
        "checkpoint_dir = os.path.dirname(checkpoint_path)\n",
        "\n",
        "# Create checkpoint callback\n",
        "cp_callback = tf.keras.callbacks.ModelCheckpoint(checkpoint_path, period = 2,\n",
        "                                                 verbose=1)"
      ],
      "execution_count": 0,
      "outputs": []
    },
    {
      "cell_type": "code",
      "metadata": {
        "id": "d9Sri7wWVXan",
        "colab_type": "code",
        "outputId": "98d452f4-8110-49f4-a487-30c0f3c2fe3d",
        "colab": {
          "base_uri": "https://localhost:8080/",
          "height": 3377
        }
      },
      "source": [
        "history = model.fit_generator(train_generator,\n",
        "                              steps_per_epoch = steps_per_epoch,\n",
        "                              epochs=epochs,\n",
        "                              workers=4,\n",
        "                              validation_data=validation_generator,\n",
        "                              validation_steps=validation_steps,\n",
        "                             callbacks = [cp_callback])"
      ],
      "execution_count": 0,
      "outputs": [
        {
          "output_type": "stream",
          "text": [
            "Epoch 1/50\n",
            "40/40 [==============================] - 2s 60ms/step - loss: 0.9609 - categorical_accuracy: 0.7550\n",
            "157/157 [==============================] - 11s 72ms/step - loss: 0.6905 - categorical_accuracy: 0.7848 - val_loss: 0.9609 - val_categorical_accuracy: 0.7550\n",
            "Epoch 2/50\n",
            "40/40 [==============================] - 2s 59ms/step - loss: 1.0195 - categorical_accuracy: 0.7526\n",
            "\n",
            "Epoch 00002: saving model to /content/gdrive/My Drive/AV_GoT_Ships/training_1/cp_v2.ckpt\n",
            "157/157 [==============================] - 12s 76ms/step - loss: 0.6828 - categorical_accuracy: 0.7966 - val_loss: 1.0195 - val_categorical_accuracy: 0.7526\n",
            "Epoch 3/50\n",
            "40/40 [==============================] - 2s 61ms/step - loss: 1.0067 - categorical_accuracy: 0.7526\n",
            "157/157 [==============================] - 11s 71ms/step - loss: 0.7132 - categorical_accuracy: 0.7834 - val_loss: 1.0067 - val_categorical_accuracy: 0.7526\n",
            "Epoch 4/50\n",
            "40/40 [==============================] - 3s 68ms/step - loss: 0.9670 - categorical_accuracy: 0.7598\n",
            "\n",
            "Epoch 00004: saving model to /content/gdrive/My Drive/AV_GoT_Ships/training_1/cp_v2.ckpt\n",
            "157/157 [==============================] - 12s 80ms/step - loss: 0.6925 - categorical_accuracy: 0.7954 - val_loss: 0.9670 - val_categorical_accuracy: 0.7598\n",
            "Epoch 5/50\n",
            "40/40 [==============================] - 2s 60ms/step - loss: 1.1140 - categorical_accuracy: 0.7614\n",
            "157/157 [==============================] - 12s 76ms/step - loss: 0.7250 - categorical_accuracy: 0.7956 - val_loss: 1.1140 - val_categorical_accuracy: 0.7614\n",
            "Epoch 6/50\n",
            "40/40 [==============================] - 2s 60ms/step - loss: 1.1076 - categorical_accuracy: 0.7606\n",
            "\n",
            "Epoch 00006: saving model to /content/gdrive/My Drive/AV_GoT_Ships/training_1/cp_v2.ckpt\n",
            "157/157 [==============================] - 12s 77ms/step - loss: 0.7234 - categorical_accuracy: 0.7978 - val_loss: 1.1076 - val_categorical_accuracy: 0.7606\n",
            "Epoch 7/50\n",
            "40/40 [==============================] - 2s 59ms/step - loss: 1.0143 - categorical_accuracy: 0.7670\n",
            "157/157 [==============================] - 11s 71ms/step - loss: 0.6683 - categorical_accuracy: 0.7980 - val_loss: 1.0143 - val_categorical_accuracy: 0.7670\n",
            "Epoch 8/50\n",
            "40/40 [==============================] - 2s 59ms/step - loss: 1.0266 - categorical_accuracy: 0.7638\n",
            "\n",
            "Epoch 00008: saving model to /content/gdrive/My Drive/AV_GoT_Ships/training_1/cp_v2.ckpt\n",
            "157/157 [==============================] - 12s 76ms/step - loss: 0.7006 - categorical_accuracy: 0.7954 - val_loss: 1.0266 - val_categorical_accuracy: 0.7638\n",
            "Epoch 9/50\n",
            "40/40 [==============================] - 2s 60ms/step - loss: 1.0312 - categorical_accuracy: 0.7606\n",
            "157/157 [==============================] - 11s 71ms/step - loss: 0.6721 - categorical_accuracy: 0.7916 - val_loss: 1.0312 - val_categorical_accuracy: 0.7606\n",
            "Epoch 10/50\n",
            "40/40 [==============================] - 2s 60ms/step - loss: 0.9054 - categorical_accuracy: 0.7574\n",
            "\n",
            "Epoch 00010: saving model to /content/gdrive/My Drive/AV_GoT_Ships/training_1/cp_v2.ckpt\n",
            "157/157 [==============================] - 12s 76ms/step - loss: 0.6635 - categorical_accuracy: 0.7888 - val_loss: 0.9054 - val_categorical_accuracy: 0.7574\n",
            "Epoch 11/50\n",
            "40/40 [==============================] - 3s 69ms/step - loss: 0.9369 - categorical_accuracy: 0.7654\n",
            "157/157 [==============================] - 12s 76ms/step - loss: 0.6700 - categorical_accuracy: 0.7888 - val_loss: 0.9369 - val_categorical_accuracy: 0.7654\n",
            "Epoch 12/50\n",
            "40/40 [==============================] - 2s 59ms/step - loss: 0.8881 - categorical_accuracy: 0.7670\n",
            "\n",
            "Epoch 00012: saving model to /content/gdrive/My Drive/AV_GoT_Ships/training_1/cp_v2.ckpt\n",
            "157/157 [==============================] - 13s 80ms/step - loss: 0.6652 - categorical_accuracy: 0.7902 - val_loss: 0.8881 - val_categorical_accuracy: 0.7670\n",
            "Epoch 13/50\n",
            "40/40 [==============================] - 2s 59ms/step - loss: 0.9776 - categorical_accuracy: 0.7686\n",
            "157/157 [==============================] - 11s 70ms/step - loss: 0.6501 - categorical_accuracy: 0.7942 - val_loss: 0.9776 - val_categorical_accuracy: 0.7686\n",
            "Epoch 14/50\n",
            "40/40 [==============================] - 2s 60ms/step - loss: 0.9791 - categorical_accuracy: 0.7694\n",
            "\n",
            "Epoch 00014: saving model to /content/gdrive/My Drive/AV_GoT_Ships/training_1/cp_v2.ckpt\n",
            "157/157 [==============================] - 12s 76ms/step - loss: 0.6555 - categorical_accuracy: 0.7940 - val_loss: 0.9791 - val_categorical_accuracy: 0.7694\n",
            "Epoch 15/50\n",
            "40/40 [==============================] - 3s 71ms/step - loss: 1.0389 - categorical_accuracy: 0.7678\n",
            "157/157 [==============================] - 12s 77ms/step - loss: 0.6694 - categorical_accuracy: 0.8032 - val_loss: 1.0389 - val_categorical_accuracy: 0.7678\n",
            "Epoch 16/50\n",
            "40/40 [==============================] - 2s 59ms/step - loss: 1.0142 - categorical_accuracy: 0.7638\n",
            "\n",
            "Epoch 00016: saving model to /content/gdrive/My Drive/AV_GoT_Ships/training_1/cp_v2.ckpt\n",
            "157/157 [==============================] - 12s 79ms/step - loss: 0.6430 - categorical_accuracy: 0.7964 - val_loss: 1.0142 - val_categorical_accuracy: 0.7638\n",
            "Epoch 17/50\n",
            "40/40 [==============================] - 2s 61ms/step - loss: 0.9916 - categorical_accuracy: 0.7702\n",
            "157/157 [==============================] - 11s 71ms/step - loss: 0.6459 - categorical_accuracy: 0.8052 - val_loss: 0.9916 - val_categorical_accuracy: 0.7702\n",
            "Epoch 18/50\n",
            "40/40 [==============================] - 3s 69ms/step - loss: 1.0293 - categorical_accuracy: 0.7733\n",
            "\n",
            "Epoch 00018: saving model to /content/gdrive/My Drive/AV_GoT_Ships/training_1/cp_v2.ckpt\n",
            "157/157 [==============================] - 13s 84ms/step - loss: 0.6520 - categorical_accuracy: 0.8008 - val_loss: 1.0293 - val_categorical_accuracy: 0.7733\n",
            "Epoch 19/50\n",
            "40/40 [==============================] - 2s 59ms/step - loss: 0.9972 - categorical_accuracy: 0.7678\n",
            "157/157 [==============================] - 11s 71ms/step - loss: 0.6490 - categorical_accuracy: 0.8040 - val_loss: 0.9972 - val_categorical_accuracy: 0.7678\n",
            "Epoch 20/50\n",
            "40/40 [==============================] - 2s 60ms/step - loss: 1.0335 - categorical_accuracy: 0.7702\n",
            "\n",
            "Epoch 00020: saving model to /content/gdrive/My Drive/AV_GoT_Ships/training_1/cp_v2.ckpt\n",
            "157/157 [==============================] - 12s 77ms/step - loss: 0.6792 - categorical_accuracy: 0.7982 - val_loss: 1.0335 - val_categorical_accuracy: 0.7702\n",
            "Epoch 21/50\n",
            "40/40 [==============================] - 2s 59ms/step - loss: 1.0400 - categorical_accuracy: 0.7686\n",
            "157/157 [==============================] - 11s 70ms/step - loss: 0.6796 - categorical_accuracy: 0.8004 - val_loss: 1.0400 - val_categorical_accuracy: 0.7686\n",
            "Epoch 22/50\n",
            "40/40 [==============================] - 2s 59ms/step - loss: 0.9793 - categorical_accuracy: 0.7694\n",
            "\n",
            "Epoch 00022: saving model to /content/gdrive/My Drive/AV_GoT_Ships/training_1/cp_v2.ckpt\n",
            "157/157 [==============================] - 12s 77ms/step - loss: 0.6315 - categorical_accuracy: 0.8080 - val_loss: 0.9793 - val_categorical_accuracy: 0.7694\n",
            "Epoch 23/50\n",
            "40/40 [==============================] - 2s 60ms/step - loss: 0.9617 - categorical_accuracy: 0.7654\n",
            "157/157 [==============================] - 11s 70ms/step - loss: 0.6512 - categorical_accuracy: 0.8030 - val_loss: 0.9617 - val_categorical_accuracy: 0.7654\n",
            "Epoch 24/50\n",
            "40/40 [==============================] - 3s 64ms/step - loss: 1.0003 - categorical_accuracy: 0.7709\n",
            "\n",
            "Epoch 00024: saving model to /content/gdrive/My Drive/AV_GoT_Ships/training_1/cp_v2.ckpt\n",
            "157/157 [==============================] - 13s 81ms/step - loss: 0.6316 - categorical_accuracy: 0.8012 - val_loss: 1.0003 - val_categorical_accuracy: 0.7709\n",
            "Epoch 25/50\n",
            "40/40 [==============================] - 2s 60ms/step - loss: 0.9530 - categorical_accuracy: 0.7662\n",
            "157/157 [==============================] - 12s 79ms/step - loss: 0.6487 - categorical_accuracy: 0.8026 - val_loss: 0.9530 - val_categorical_accuracy: 0.7662\n",
            "Epoch 26/50\n",
            "40/40 [==============================] - 2s 60ms/step - loss: 1.0336 - categorical_accuracy: 0.7646\n",
            "\n",
            "Epoch 00026: saving model to /content/gdrive/My Drive/AV_GoT_Ships/training_1/cp_v2.ckpt\n",
            "157/157 [==============================] - 12s 77ms/step - loss: 0.6645 - categorical_accuracy: 0.8104 - val_loss: 1.0336 - val_categorical_accuracy: 0.7646\n",
            "Epoch 27/50\n",
            "40/40 [==============================] - 2s 60ms/step - loss: 1.0076 - categorical_accuracy: 0.7725\n",
            "157/157 [==============================] - 11s 71ms/step - loss: 0.6152 - categorical_accuracy: 0.8090 - val_loss: 1.0076 - val_categorical_accuracy: 0.7725\n",
            "Epoch 28/50\n",
            "40/40 [==============================] - 2s 59ms/step - loss: 1.0140 - categorical_accuracy: 0.7733\n",
            "\n",
            "Epoch 00028: saving model to /content/gdrive/My Drive/AV_GoT_Ships/training_1/cp_v2.ckpt\n",
            "157/157 [==============================] - 12s 76ms/step - loss: 0.6563 - categorical_accuracy: 0.8098 - val_loss: 1.0140 - val_categorical_accuracy: 0.7733\n",
            "Epoch 29/50\n",
            "40/40 [==============================] - 2s 61ms/step - loss: 0.9601 - categorical_accuracy: 0.7741\n",
            "157/157 [==============================] - 11s 71ms/step - loss: 0.6329 - categorical_accuracy: 0.8042 - val_loss: 0.9601 - val_categorical_accuracy: 0.7741\n",
            "Epoch 30/50\n",
            "40/40 [==============================] - 2s 59ms/step - loss: 1.0033 - categorical_accuracy: 0.7702\n",
            "\n",
            "Epoch 00030: saving model to /content/gdrive/My Drive/AV_GoT_Ships/training_1/cp_v2.ckpt\n",
            "157/157 [==============================] - 12s 75ms/step - loss: 0.6111 - categorical_accuracy: 0.8092 - val_loss: 1.0033 - val_categorical_accuracy: 0.7702\n",
            "Epoch 31/50\n",
            "40/40 [==============================] - 2s 62ms/step - loss: 1.0426 - categorical_accuracy: 0.7702\n",
            "157/157 [==============================] - 11s 71ms/step - loss: 0.6391 - categorical_accuracy: 0.8070 - val_loss: 1.0426 - val_categorical_accuracy: 0.7702\n",
            "Epoch 32/50\n",
            "40/40 [==============================] - 2s 59ms/step - loss: 0.9768 - categorical_accuracy: 0.7805\n",
            "\n",
            "Epoch 00032: saving model to /content/gdrive/My Drive/AV_GoT_Ships/training_1/cp_v2.ckpt\n",
            "157/157 [==============================] - 13s 84ms/step - loss: 0.6173 - categorical_accuracy: 0.8058 - val_loss: 0.9768 - val_categorical_accuracy: 0.7805\n",
            "Epoch 33/50\n",
            "40/40 [==============================] - 2s 60ms/step - loss: 1.0641 - categorical_accuracy: 0.7717\n",
            "157/157 [==============================] - 11s 70ms/step - loss: 0.5972 - categorical_accuracy: 0.8164 - val_loss: 1.0641 - val_categorical_accuracy: 0.7717\n",
            "Epoch 34/50\n",
            "40/40 [==============================] - 2s 59ms/step - loss: 1.1763 - categorical_accuracy: 0.7789\n",
            "\n",
            "Epoch 00034: saving model to /content/gdrive/My Drive/AV_GoT_Ships/training_1/cp_v2.ckpt\n",
            "157/157 [==============================] - 12s 76ms/step - loss: 0.6203 - categorical_accuracy: 0.8188 - val_loss: 1.1763 - val_categorical_accuracy: 0.7789\n",
            "Epoch 35/50\n",
            "40/40 [==============================] - 2s 60ms/step - loss: 1.0967 - categorical_accuracy: 0.7733\n",
            "157/157 [==============================] - 11s 71ms/step - loss: 0.6881 - categorical_accuracy: 0.8114 - val_loss: 1.0967 - val_categorical_accuracy: 0.7733\n",
            "Epoch 36/50\n",
            "40/40 [==============================] - 2s 59ms/step - loss: 1.0954 - categorical_accuracy: 0.7749\n",
            "\n",
            "Epoch 00036: saving model to /content/gdrive/My Drive/AV_GoT_Ships/training_1/cp_v2.ckpt\n",
            "157/157 [==============================] - 12s 74ms/step - loss: 0.6176 - categorical_accuracy: 0.8092 - val_loss: 1.0954 - val_categorical_accuracy: 0.7749\n",
            "Epoch 37/50\n",
            "40/40 [==============================] - 2s 61ms/step - loss: 1.0696 - categorical_accuracy: 0.7678\n",
            "157/157 [==============================] - 11s 71ms/step - loss: 0.6139 - categorical_accuracy: 0.8140 - val_loss: 1.0696 - val_categorical_accuracy: 0.7678\n",
            "Epoch 38/50\n",
            "40/40 [==============================] - 3s 65ms/step - loss: 0.9702 - categorical_accuracy: 0.7781\n",
            "\n",
            "Epoch 00038: saving model to /content/gdrive/My Drive/AV_GoT_Ships/training_1/cp_v2.ckpt\n",
            "157/157 [==============================] - 12s 77ms/step - loss: 0.6082 - categorical_accuracy: 0.8122 - val_loss: 0.9702 - val_categorical_accuracy: 0.7781\n",
            "Epoch 39/50\n",
            "40/40 [==============================] - 2s 58ms/step - loss: 1.0614 - categorical_accuracy: 0.7709\n",
            "157/157 [==============================] - 12s 76ms/step - loss: 0.6062 - categorical_accuracy: 0.8124 - val_loss: 1.0614 - val_categorical_accuracy: 0.7709\n",
            "Epoch 40/50\n",
            "40/40 [==============================] - 2s 57ms/step - loss: 1.1241 - categorical_accuracy: 0.7702\n",
            "\n",
            "Epoch 00040: saving model to /content/gdrive/My Drive/AV_GoT_Ships/training_1/cp_v2.ckpt\n",
            "157/157 [==============================] - 12s 75ms/step - loss: 0.6340 - categorical_accuracy: 0.8154 - val_loss: 1.1241 - val_categorical_accuracy: 0.7702\n",
            "Epoch 41/50\n",
            "40/40 [==============================] - 3s 66ms/step - loss: 0.9991 - categorical_accuracy: 0.7781\n",
            "157/157 [==============================] - 11s 71ms/step - loss: 0.6275 - categorical_accuracy: 0.8080 - val_loss: 0.9991 - val_categorical_accuracy: 0.7781\n",
            "Epoch 42/50\n",
            "40/40 [==============================] - 2s 59ms/step - loss: 1.0108 - categorical_accuracy: 0.7797\n",
            "\n",
            "Epoch 00042: saving model to /content/gdrive/My Drive/AV_GoT_Ships/training_1/cp_v2.ckpt\n",
            "157/157 [==============================] - 13s 84ms/step - loss: 0.6152 - categorical_accuracy: 0.8180 - val_loss: 1.0108 - val_categorical_accuracy: 0.7797\n",
            "Epoch 43/50\n",
            "40/40 [==============================] - 2s 59ms/step - loss: 1.0891 - categorical_accuracy: 0.7765\n",
            "157/157 [==============================] - 11s 70ms/step - loss: 0.6460 - categorical_accuracy: 0.8182 - val_loss: 1.0891 - val_categorical_accuracy: 0.7765\n",
            "Epoch 44/50\n",
            "40/40 [==============================] - 2s 59ms/step - loss: 1.2359 - categorical_accuracy: 0.7805\n",
            "\n",
            "Epoch 00044: saving model to /content/gdrive/My Drive/AV_GoT_Ships/training_1/cp_v2.ckpt\n",
            "157/157 [==============================] - 12s 74ms/step - loss: 0.6354 - categorical_accuracy: 0.8126 - val_loss: 1.2359 - val_categorical_accuracy: 0.7805\n",
            "Epoch 45/50\n",
            "40/40 [==============================] - 3s 69ms/step - loss: 1.1717 - categorical_accuracy: 0.7765\n",
            "157/157 [==============================] - 12s 74ms/step - loss: 0.6149 - categorical_accuracy: 0.8128 - val_loss: 1.1717 - val_categorical_accuracy: 0.7765\n",
            "Epoch 46/50\n",
            "40/40 [==============================] - 2s 60ms/step - loss: 0.9546 - categorical_accuracy: 0.7749\n",
            "\n",
            "Epoch 00046: saving model to /content/gdrive/My Drive/AV_GoT_Ships/training_1/cp_v2.ckpt\n",
            "157/157 [==============================] - 13s 80ms/step - loss: 0.6170 - categorical_accuracy: 0.8164 - val_loss: 0.9546 - val_categorical_accuracy: 0.7749\n",
            "Epoch 47/50\n",
            "40/40 [==============================] - 2s 60ms/step - loss: 1.0720 - categorical_accuracy: 0.7789\n",
            "157/157 [==============================] - 11s 70ms/step - loss: 0.5947 - categorical_accuracy: 0.8200 - val_loss: 1.0720 - val_categorical_accuracy: 0.7789\n",
            "Epoch 48/50\n",
            "40/40 [==============================] - 2s 58ms/step - loss: 1.2098 - categorical_accuracy: 0.7821\n",
            "\n",
            "Epoch 00048: saving model to /content/gdrive/My Drive/AV_GoT_Ships/training_1/cp_v2.ckpt\n",
            "157/157 [==============================] - 12s 76ms/step - loss: 0.6078 - categorical_accuracy: 0.8202 - val_loss: 1.2098 - val_categorical_accuracy: 0.7821\n",
            "Epoch 49/50\n",
            "40/40 [==============================] - 2s 59ms/step - loss: 1.0344 - categorical_accuracy: 0.7805\n",
            "157/157 [==============================] - 11s 70ms/step - loss: 0.6064 - categorical_accuracy: 0.8168 - val_loss: 1.0344 - val_categorical_accuracy: 0.7805\n",
            "Epoch 50/50\n",
            "40/40 [==============================] - 3s 63ms/step - loss: 1.1152 - categorical_accuracy: 0.7765\n",
            "\n",
            "Epoch 00050: saving model to /content/gdrive/My Drive/AV_GoT_Ships/training_1/cp_v2.ckpt\n",
            "157/157 [==============================] - 12s 79ms/step - loss: 0.5870 - categorical_accuracy: 0.8196 - val_loss: 1.1152 - val_categorical_accuracy: 0.7765\n"
          ],
          "name": "stdout"
        }
      ]
    },
    {
      "cell_type": "code",
      "metadata": {
        "id": "WBGP65wTcBy5",
        "colab_type": "code",
        "colab": {}
      },
      "source": [
        "model.save(PATH + 'models_v2/epoch50B_26May2019_1600.h5')"
      ],
      "execution_count": 0,
      "outputs": []
    },
    {
      "cell_type": "code",
      "metadata": {
        "id": "RAz90wLpc6lm",
        "colab_type": "code",
        "colab": {}
      },
      "source": [
        ""
      ],
      "execution_count": 0,
      "outputs": []
    }
  ]
}